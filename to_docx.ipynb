{
 "cells": [
  {
   "cell_type": "code",
   "execution_count": 2,
   "metadata": {
    "execution": {
     "iopub.execute_input": "2023-11-25T05:24:57.851718Z",
     "iopub.status.busy": "2023-11-25T05:24:57.851236Z",
     "iopub.status.idle": "2023-11-25T05:25:04.081022Z",
     "shell.execute_reply": "2023-11-25T05:25:04.080409Z",
     "shell.execute_reply.started": "2023-11-25T05:24:57.851695Z"
    },
    "tags": []
   },
   "outputs": [
    {
     "name": "stdout",
     "output_type": "stream",
     "text": [
      "Defaulting to user installation because normal site-packages is not writeable\n",
      "Collecting python-docx\n",
      "  Obtaining dependency information for python-docx from https://files.pythonhosted.org/packages/5f/d8/6948f7ac00edf74bfa52b3c5e3073df20284bec1db466d13e668fe991707/python_docx-1.1.0-py3-none-any.whl.metadata\n",
      "  Downloading python_docx-1.1.0-py3-none-any.whl.metadata (2.0 kB)\n",
      "Requirement already satisfied: lxml>=3.1.0 in /usr/local/lib/python3.10/dist-packages (from python-docx) (4.9.3)\n",
      "Requirement already satisfied: typing-extensions in /kernel/lib/python3.10/site-packages (from python-docx) (4.8.0)\n",
      "Downloading python_docx-1.1.0-py3-none-any.whl (239 kB)\n",
      "\u001b[2K   \u001b[90m━━━━━━━━━━━━━━━━━━━━━━━━━━━━━━━━━━━━━━━━\u001b[0m \u001b[32m239.6/239.6 kB\u001b[0m \u001b[31m1.7 MB/s\u001b[0m eta \u001b[36m0:00:00\u001b[0m00:01\u001b[0m00:01\u001b[0mm\n",
      "\u001b[?25hInstalling collected packages: python-docx\n",
      "Successfully installed python-docx-1.1.0\n",
      "\n",
      "\u001b[1m[\u001b[0m\u001b[34;49mnotice\u001b[0m\u001b[1;39;49m]\u001b[0m\u001b[39;49m A new release of pip is available: \u001b[0m\u001b[31;49m23.2.1\u001b[0m\u001b[39;49m -> \u001b[0m\u001b[32;49m23.3.1\u001b[0m\n",
      "\u001b[1m[\u001b[0m\u001b[34;49mnotice\u001b[0m\u001b[1;39;49m]\u001b[0m\u001b[39;49m To update, run: \u001b[0m\u001b[32;49mpython3 -m pip install --upgrade pip\u001b[0m\n"
     ]
    }
   ],
   "source": [
    "%pip install python-docx "
   ]
  },
  {
   "cell_type": "code",
   "execution_count": 3,
   "metadata": {
    "execution": {
     "iopub.execute_input": "2023-11-25T05:25:36.642095Z",
     "iopub.status.busy": "2023-11-25T05:25:36.641526Z",
     "iopub.status.idle": "2023-11-25T05:25:36.765297Z",
     "shell.execute_reply": "2023-11-25T05:25:36.764748Z",
     "shell.execute_reply.started": "2023-11-25T05:25:36.642066Z"
    },
    "id": "-g3GJzM4HylH",
    "tags": []
   },
   "outputs": [],
   "source": [
    "from docx import Document\n",
    "# импортируем единицы измерения\n",
    "from docx.shared import Mm, Cm\n",
    "# импортируем необходимые перечисления\n",
    "from docx.enum.text import WD_ALIGN_PARAGRAPH\n",
    "import pandas as pd\n"
   ]
  },
  {
   "cell_type": "code",
   "execution_count": 4,
   "metadata": {
    "execution": {
     "iopub.execute_input": "2023-11-25T05:25:40.004557Z",
     "iopub.status.busy": "2023-11-25T05:25:40.003995Z",
     "iopub.status.idle": "2023-11-25T05:25:40.046872Z",
     "shell.execute_reply": "2023-11-25T05:25:40.046336Z",
     "shell.execute_reply.started": "2023-11-25T05:25:40.004533Z"
    },
    "id": "8QTP6-tZNjgP",
    "tags": []
   },
   "outputs": [],
   "source": [
    "# создание пустого документа\n",
    "doc = Document()\n",
    "# без указания аргумента `level`\n",
    "# добавляется заголовок \"Heading 1\"\n",
    "style = doc.styles['Normal']\n",
    "\n"
   ]
  },
  {
   "cell_type": "code",
   "execution_count": 8,
   "metadata": {
    "execution": {
     "iopub.execute_input": "2023-11-25T05:26:48.041748Z",
     "iopub.status.busy": "2023-11-25T05:26:48.041232Z",
     "iopub.status.idle": "2023-11-25T05:26:48.050656Z",
     "shell.execute_reply": "2023-11-25T05:26:48.050140Z",
     "shell.execute_reply.started": "2023-11-25T05:26:48.041724Z"
    },
    "id": "MRbHqg5PcJ33",
    "tags": []
   },
   "outputs": [],
   "source": [
    "pic = \"/home/jupyter/datasphere/project/gb.jpg\""
   ]
  },
  {
   "cell_type": "code",
   "execution_count": 9,
   "metadata": {
    "execution": {
     "iopub.execute_input": "2023-11-25T05:26:48.697213Z",
     "iopub.status.busy": "2023-11-25T05:26:48.696665Z",
     "iopub.status.idle": "2023-11-25T05:26:48.719090Z",
     "shell.execute_reply": "2023-11-25T05:26:48.718576Z",
     "shell.execute_reply.started": "2023-11-25T05:26:48.697191Z"
    },
    "id": "pT1TBZRrb1EW",
    "tags": []
   },
   "outputs": [],
   "source": [
    "def add_img(pic, width=None, height=None):\n",
    "    img = doc.add_paragraph().add_run().add_picture(pic, width, height)\n",
    "    return img"
   ]
  },
  {
   "cell_type": "code",
   "execution_count": 10,
   "metadata": {
    "colab": {
     "base_uri": "https://localhost:8080/"
    },
    "execution": {
     "iopub.execute_input": "2023-11-25T05:26:49.224994Z",
     "iopub.status.busy": "2023-11-25T05:26:49.224452Z",
     "iopub.status.idle": "2023-11-25T05:26:49.244746Z",
     "shell.execute_reply": "2023-11-25T05:26:49.244231Z",
     "shell.execute_reply.started": "2023-11-25T05:26:49.224971Z"
    },
    "id": "RHVfPggcc12i",
    "outputId": "19f46c3c-bac6-4e97-94e8-6612371a2332",
    "tags": []
   },
   "outputs": [
    {
     "data": {
      "text/plain": [
       "<docx.shape.InlineShape at 0x7fcda0c551b0>"
      ]
     },
     "execution_count": 10,
     "metadata": {},
     "output_type": "execute_result"
    }
   ],
   "source": [
    "add_img(pic, width=Mm(50)) #width=Mm(50)"
   ]
  },
  {
   "cell_type": "code",
   "execution_count": 11,
   "metadata": {
    "execution": {
     "iopub.execute_input": "2023-11-25T05:26:51.358230Z",
     "iopub.status.busy": "2023-11-25T05:26:51.357675Z",
     "iopub.status.idle": "2023-11-25T05:26:51.369534Z",
     "shell.execute_reply": "2023-11-25T05:26:51.369007Z",
     "shell.execute_reply.started": "2023-11-25T05:26:51.358206Z"
    },
    "id": "t9nR23sEcS1K"
   },
   "outputs": [],
   "source": [
    "lection = 6\n",
    "# без указания аргумента `level`\n",
    "# добавляется заголовок \"Heading 1\"\n",
    "head = doc.add_heading('Конспект лекции №' + str(lection))"
   ]
  },
  {
   "cell_type": "code",
   "execution_count": 14,
   "metadata": {
    "colab": {
     "base_uri": "https://localhost:8080/"
    },
    "execution": {
     "iopub.execute_input": "2023-11-25T05:29:22.243672Z",
     "iopub.status.busy": "2023-11-25T05:29:22.243089Z",
     "iopub.status.idle": "2023-11-25T05:29:22.260138Z",
     "shell.execute_reply": "2023-11-25T05:29:22.259630Z",
     "shell.execute_reply.started": "2023-11-25T05:29:22.243646Z"
    },
    "id": "eKG7tEAcZsGI",
    "outputId": "7427b81d-8843-4d59-b253-e5cbc3c718e5",
    "tags": []
   },
   "outputs": [
    {
     "data": {
      "text/plain": [
       "<docx.text.paragraph.Paragraph at 0x7fcda0c54160>"
      ]
     },
     "execution_count": 14,
     "metadata": {},
     "output_type": "execute_result"
    }
   ],
   "source": [
    "# выравнивание посередине\n",
    "head.alignment = WD_ALIGN_PARAGRAPH.CENTER\n",
    "doc.add_heading('Введение', level=2)\n",
    "\n",
    "font = style.font\n",
    "font.italic = True\n",
    "path_abstract = '/home/jupyter/datasphere/project/abstract.txt'\n",
    "abstract_file = open(path_abstract, \"r\")\n",
    "abstract = abstract_file.read()\n",
    "doc.add_paragraph(abstract)\n",
    "\n"
   ]
  },
  {
   "cell_type": "code",
   "execution_count": 16,
   "metadata": {
    "execution": {
     "iopub.execute_input": "2023-11-25T05:29:38.151825Z",
     "iopub.status.busy": "2023-11-25T05:29:38.151202Z",
     "iopub.status.idle": "2023-11-25T05:29:38.173420Z",
     "shell.execute_reply": "2023-11-25T05:29:38.172875Z",
     "shell.execute_reply.started": "2023-11-25T05:29:38.151802Z"
    },
    "id": "JLQYJB0ATtD1",
    "tags": []
   },
   "outputs": [],
   "source": [
    "df = pd.read_csv(\"/home/jupyter/datasphere/project/term_and_definition_example.csv\")"
   ]
  },
  {
   "cell_type": "code",
   "execution_count": 17,
   "metadata": {
    "execution": {
     "iopub.execute_input": "2023-11-25T05:29:40.989161Z",
     "iopub.status.busy": "2023-11-25T05:29:40.988597Z",
     "iopub.status.idle": "2023-11-25T05:29:41.002288Z",
     "shell.execute_reply": "2023-11-25T05:29:41.001763Z",
     "shell.execute_reply.started": "2023-11-25T05:29:40.989138Z"
    },
    "id": "8VhD1qECU86R"
   },
   "outputs": [],
   "source": [
    "font.italic = False\n",
    "doc.add_heading('Глоссарий', level=2)\n",
    "table = doc.add_table(df.shape[0]+1, df.shape[1])\n",
    "table.style = 'Light Shading Accent 1'"
   ]
  },
  {
   "cell_type": "code",
   "execution_count": 18,
   "metadata": {
    "execution": {
     "iopub.execute_input": "2023-11-25T05:29:42.873585Z",
     "iopub.status.busy": "2023-11-25T05:29:42.873216Z",
     "iopub.status.idle": "2023-11-25T05:29:42.888123Z",
     "shell.execute_reply": "2023-11-25T05:29:42.887595Z",
     "shell.execute_reply.started": "2023-11-25T05:29:42.873565Z"
    },
    "id": "Nz2oXjcsVM6C"
   },
   "outputs": [],
   "source": [
    "# add the header rows.\n",
    "for j in range(df.shape[-1]):\n",
    "    table.cell(0,j).text = df.columns[j]\n",
    "\n",
    "# add the rest of the data frame\n",
    "for i in range(df.shape[0]):\n",
    "    for j in range(df.shape[-1]):\n",
    "        table.cell(i+1,j).text = str(df.values[i,j])\n",
    "table.cell(0, 0).text = \"№\""
   ]
  },
  {
   "cell_type": "code",
   "execution_count": 19,
   "metadata": {
    "execution": {
     "iopub.execute_input": "2023-11-25T05:29:45.784785Z",
     "iopub.status.busy": "2023-11-25T05:29:45.784257Z",
     "iopub.status.idle": "2023-11-25T05:29:45.796565Z",
     "shell.execute_reply": "2023-11-25T05:29:45.796055Z",
     "shell.execute_reply.started": "2023-11-25T05:29:45.784763Z"
    },
    "id": "frgReJhQX4xK"
   },
   "outputs": [],
   "source": [
    "path_summary = '/home/jupyter/datasphere/project/summary.txt'\n",
    "summary_file = open(path_summary, \"r\")\n",
    "summary = summary_file.read()"
   ]
  },
  {
   "cell_type": "code",
   "execution_count": 20,
   "metadata": {
    "colab": {
     "base_uri": "https://localhost:8080/"
    },
    "execution": {
     "iopub.execute_input": "2023-11-25T05:29:47.909346Z",
     "iopub.status.busy": "2023-11-25T05:29:47.908742Z",
     "iopub.status.idle": "2023-11-25T05:29:47.920577Z",
     "shell.execute_reply": "2023-11-25T05:29:47.920073Z",
     "shell.execute_reply.started": "2023-11-25T05:29:47.909321Z"
    },
    "id": "9SnrhTA0XfJC",
    "outputId": "106db6ed-54b4-44b8-e3a6-859eee5bcbdf"
   },
   "outputs": [
    {
     "data": {
      "text/plain": [
       "<docx.text.paragraph.Paragraph at 0x7fcda0c57700>"
      ]
     },
     "execution_count": 20,
     "metadata": {},
     "output_type": "execute_result"
    }
   ],
   "source": [
    "doc.add_heading('Краткое содержание лекции', level=2)\n",
    "doc.add_paragraph(summary)"
   ]
  },
  {
   "cell_type": "code",
   "execution_count": 21,
   "metadata": {
    "execution": {
     "iopub.execute_input": "2023-11-25T05:29:57.809644Z",
     "iopub.status.busy": "2023-11-25T05:29:57.809132Z",
     "iopub.status.idle": "2023-11-25T05:29:57.817780Z",
     "shell.execute_reply": "2023-11-25T05:29:57.817247Z",
     "shell.execute_reply.started": "2023-11-25T05:29:57.809620Z"
    },
    "id": "4a1QS6qeYS1q"
   },
   "outputs": [],
   "source": [
    "path_conclusion = '/home/jupyter/datasphere/project/conclusion.txt'\n",
    "conclusion_file = open(path_conclusion, \"r\")\n",
    "conclusion = conclusion_file.read()"
   ]
  },
  {
   "cell_type": "code",
   "execution_count": 22,
   "metadata": {
    "colab": {
     "base_uri": "https://localhost:8080/"
    },
    "execution": {
     "iopub.execute_input": "2023-11-25T05:29:59.369986Z",
     "iopub.status.busy": "2023-11-25T05:29:59.369450Z",
     "iopub.status.idle": "2023-11-25T05:29:59.383533Z",
     "shell.execute_reply": "2023-11-25T05:29:59.383014Z",
     "shell.execute_reply.started": "2023-11-25T05:29:59.369961Z"
    },
    "id": "a5eLN59_YbGS",
    "outputId": "df71b081-adc3-493d-ee5e-6a2d1d03af9f"
   },
   "outputs": [
    {
     "data": {
      "text/plain": [
       "<docx.text.paragraph.Paragraph at 0x7fcda0c57880>"
      ]
     },
     "execution_count": 22,
     "metadata": {},
     "output_type": "execute_result"
    }
   ],
   "source": [
    "doc.add_heading('Выводы', level=2)\n",
    "doc.add_paragraph(conclusion)"
   ]
  },
  {
   "cell_type": "code",
   "execution_count": 23,
   "metadata": {
    "execution": {
     "iopub.execute_input": "2023-11-25T05:30:02.863441Z",
     "iopub.status.busy": "2023-11-25T05:30:02.862865Z",
     "iopub.status.idle": "2023-11-25T05:30:02.894884Z",
     "shell.execute_reply": "2023-11-25T05:30:02.894242Z",
     "shell.execute_reply.started": "2023-11-25T05:30:02.863419Z"
    },
    "id": "WSHK5s4JVWpX"
   },
   "outputs": [],
   "source": [
    "name = 'summary_world'\n",
    "doc.save(name+'.docx')"
   ]
  },
  {
   "cell_type": "code",
   "execution_count": null,
   "metadata": {},
   "outputs": [],
   "source": []
  }
 ],
 "metadata": {
  "colab": {
   "provenance": []
  },
  "kernelspec": {
   "display_name": "DataSphere Kernel",
   "language": "python",
   "name": "python3"
  },
  "language_info": {
   "codemirror_mode": {
    "name": "ipython",
    "version": 3
   },
   "file_extension": ".py",
   "mimetype": "text/x-python",
   "name": "python",
   "nbconvert_exporter": "python",
   "pygments_lexer": "ipython3",
   "version": "3.7.7"
  }
 },
 "nbformat": 4,
 "nbformat_minor": 4
}
