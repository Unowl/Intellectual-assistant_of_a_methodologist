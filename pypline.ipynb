{
 "cells": [
  {
   "cell_type": "markdown",
   "id": "786a195c-fcdd-4bc0-8161-e413cbe64185",
   "metadata": {},
   "source": [
    "# Весь pipeline"
   ]
  },
  {
   "cell_type": "markdown",
   "id": "c6dac479-a515-4ab6-a6ac-a2e285cd31ad",
   "metadata": {},
   "source": [
    "Все работает, но не все закинуто в оболочку"
   ]
  },
  {
   "cell_type": "markdown",
   "id": "1ace7ccf-e4c1-4fef-9a69-54e44825a74b",
   "metadata": {},
   "source": [
    "## Видео в аудио"
   ]
  },
  {
   "cell_type": "code",
   "execution_count": 3,
   "id": "620aedf9-21cf-4efd-8325-f536fa45f7db",
   "metadata": {
    "execution": {
     "iopub.execute_input": "2023-11-24T12:30:21.650257Z",
     "iopub.status.busy": "2023-11-24T12:30:21.649339Z",
     "iopub.status.idle": "2023-11-24T12:30:41.754139Z",
     "shell.execute_reply": "2023-11-24T12:30:41.752656Z",
     "shell.execute_reply.started": "2023-11-24T12:30:21.650219Z"
    },
    "tags": []
   },
   "outputs": [
    {
     "name": "stdout",
     "output_type": "stream",
     "text": [
      "Defaulting to user installation because normal site-packages is not writeable\n",
      "Collecting ffmpeg\n",
      "  Downloading ffmpeg-1.4.tar.gz (5.1 kB)\n",
      "  Preparing metadata (setup.py) ... \u001b[?25ldone\n",
      "\u001b[?25hBuilding wheels for collected packages: ffmpeg\n",
      "  Building wheel for ffmpeg (setup.py) ... \u001b[?25ldone\n",
      "\u001b[?25h  Created wheel for ffmpeg: filename=ffmpeg-1.4-py3-none-any.whl size=6083 sha256=5dbff42a573fef9042a7fff48e2709dc8bba0cde954ee0f3a31dac3c26029fea\n",
      "  Stored in directory: /tmp/xdg_cache/pip/wheels/8e/7a/69/cd6aeb83b126a7f04cbe7c9d929028dc52a6e7d525ff56003a\n",
      "Successfully built ffmpeg\n",
      "Installing collected packages: ffmpeg\n",
      "Successfully installed ffmpeg-1.4\n",
      "\n",
      "\u001b[1m[\u001b[0m\u001b[34;49mnotice\u001b[0m\u001b[1;39;49m]\u001b[0m\u001b[39;49m A new release of pip is available: \u001b[0m\u001b[31;49m23.2.1\u001b[0m\u001b[39;49m -> \u001b[0m\u001b[32;49m23.3.1\u001b[0m\n",
      "\u001b[1m[\u001b[0m\u001b[34;49mnotice\u001b[0m\u001b[1;39;49m]\u001b[0m\u001b[39;49m To update, run: \u001b[0m\u001b[32;49mpython3 -m pip install --upgrade pip\u001b[0m\n",
      "Defaulting to user installation because normal site-packages is not writeable\n",
      "Requirement already satisfied: moviepy in /usr/local/lib/python3.10/dist-packages (1.0.3)\n",
      "Collecting decorator<5.0,>=4.0.2 (from moviepy)\n",
      "  Downloading decorator-4.4.2-py2.py3-none-any.whl (9.2 kB)\n",
      "Requirement already satisfied: tqdm<5.0,>=4.11.2 in /usr/local/lib/python3.10/dist-packages (from moviepy) (4.65.0)\n",
      "Requirement already satisfied: requests<3.0,>=2.8.1 in /usr/local/lib/python3.10/dist-packages (from moviepy) (2.27.1)\n",
      "Requirement already satisfied: proglog<=1.0.0 in /usr/local/lib/python3.10/dist-packages (from moviepy) (0.1.10)\n",
      "Requirement already satisfied: numpy>=1.17.3 in /usr/local/lib/python3.10/dist-packages (from moviepy) (1.22.4)\n",
      "Requirement already satisfied: imageio<3.0,>=2.5 in /usr/local/lib/python3.10/dist-packages (from moviepy) (2.25.1)\n",
      "Requirement already satisfied: imageio-ffmpeg>=0.2.0 in /usr/local/lib/python3.10/dist-packages (from moviepy) (0.4.8)\n",
      "Requirement already satisfied: pillow>=8.3.2 in /kernel/lib/python3.10/site-packages (from imageio<3.0,>=2.5->moviepy) (10.1.0)\n",
      "Collecting urllib3<1.27,>=1.21.1 (from requests<3.0,>=2.8.1->moviepy)\n",
      "  Obtaining dependency information for urllib3<1.27,>=1.21.1 from https://files.pythonhosted.org/packages/b0/53/aa91e163dcfd1e5b82d8a890ecf13314e3e149c05270cc644581f77f17fd/urllib3-1.26.18-py2.py3-none-any.whl.metadata\n",
      "  Downloading urllib3-1.26.18-py2.py3-none-any.whl.metadata (48 kB)\n",
      "\u001b[2K     \u001b[90m━━━━━━━━━━━━━━━━━━━━━━━━━━━━━━━━━━━━━━━\u001b[0m \u001b[32m48.9/48.9 kB\u001b[0m \u001b[31m810.1 kB/s\u001b[0m eta \u001b[36m0:00:00\u001b[0ma \u001b[36m0:00:01\u001b[0m\n",
      "\u001b[?25hRequirement already satisfied: certifi>=2017.4.17 in /kernel/lib/python3.10/site-packages (from requests<3.0,>=2.8.1->moviepy) (2023.7.22)\n",
      "Collecting charset-normalizer~=2.0.0 (from requests<3.0,>=2.8.1->moviepy)\n",
      "  Downloading charset_normalizer-2.0.12-py3-none-any.whl (39 kB)\n",
      "Requirement already satisfied: idna<4,>=2.5 in /kernel/lib/python3.10/site-packages (from requests<3.0,>=2.8.1->moviepy) (3.4)\n",
      "Downloading urllib3-1.26.18-py2.py3-none-any.whl (143 kB)\n",
      "\u001b[2K   \u001b[90m━━━━━━━━━━━━━━━━━━━━━━━━━━━━━━━━━━━━━━━━\u001b[0m \u001b[32m143.8/143.8 kB\u001b[0m \u001b[31m2.3 MB/s\u001b[0m eta \u001b[36m0:00:00\u001b[0m \u001b[36m0:00:01\u001b[0m\n",
      "\u001b[?25hInstalling collected packages: urllib3, decorator, charset-normalizer\n",
      "\u001b[33m  WARNING: The script normalizer is installed in '/home/jupyter/.local/bin' which is not on PATH.\n",
      "  Consider adding this directory to PATH or, if you prefer to suppress this warning, use --no-warn-script-location.\u001b[0m\u001b[33m\n",
      "\u001b[0m\u001b[31mERROR: pip's dependency resolver does not currently take into account all the packages that are installed. This behaviour is the source of the following dependency conflicts.\n",
      "ml-kernel 0.0.1 requires requests>=2.31.0, but you have requests 2.27.1 which is incompatible.\u001b[0m\u001b[31m\n",
      "\u001b[0mSuccessfully installed charset-normalizer-2.0.12 decorator-4.4.2 urllib3-1.26.18\n",
      "\n",
      "\u001b[1m[\u001b[0m\u001b[34;49mnotice\u001b[0m\u001b[1;39;49m]\u001b[0m\u001b[39;49m A new release of pip is available: \u001b[0m\u001b[31;49m23.2.1\u001b[0m\u001b[39;49m -> \u001b[0m\u001b[32;49m23.3.1\u001b[0m\n",
      "\u001b[1m[\u001b[0m\u001b[34;49mnotice\u001b[0m\u001b[1;39;49m]\u001b[0m\u001b[39;49m To update, run: \u001b[0m\u001b[32;49mpython3 -m pip install --upgrade pip\u001b[0m\n"
     ]
    }
   ],
   "source": [
    "#нужные pip\n",
    "%pip install ffmpeg\n",
    "%pip install moviepy"
   ]
  },
  {
   "cell_type": "code",
   "execution_count": null,
   "id": "89d7cda1-1aaf-42af-9843-23b461fe532f",
   "metadata": {
    "execution": {
     "iopub.status.busy": "2023-11-24T12:29:57.233333Z",
     "iopub.status.idle": "2023-11-24T12:29:57.234506Z",
     "shell.execute_reply": "2023-11-24T12:29:57.234152Z"
    }
   },
   "outputs": [],
   "source": [
    "import subprocess\n",
    "import os\n",
    "import sys\n",
    "\n",
    "def convert_video_to_audio_ffmpeg(video_file, output_ext=\"mp3\"):\n",
    "    \"\"\"Converts video to audio directly using `ffmpeg` command\n",
    "    with the help of subprocess module\"\"\"\n",
    "    filename, ext = os.path.splitext(video_file)\n",
    "    subprocess.call([\"ffmpeg\", \"-y\", \"-i\", video_file, f\"{filename}.{output_ext}\"], \n",
    "                    stdout=subprocess.DEVNULL,\n",
    "                    stderr=subprocess.STDOUT)"
   ]
  },
  {
   "cell_type": "code",
   "execution_count": null,
   "id": "7573e991-950d-4036-89d0-e21da108f24b",
   "metadata": {},
   "outputs": [],
   "source": [
    "#случайное видио, просто проверить работу\n",
    "#vf = sys.argv[1]\n",
    "#convert_video_to_audio_ffmpeg('/content/IMG_0856.MOV')"
   ]
  },
  {
   "cell_type": "markdown",
   "id": "16b531c4-2ca8-4496-a296-23ce6c815d3c",
   "metadata": {},
   "source": [
    "## Аудио в текст"
   ]
  },
  {
   "cell_type": "code",
   "execution_count": 4,
   "id": "e843711a-fc5f-4612-91e0-a7a1b036542a",
   "metadata": {
    "execution": {
     "iopub.execute_input": "2023-11-24T12:34:55.054346Z",
     "iopub.status.busy": "2023-11-24T12:34:55.053569Z",
     "iopub.status.idle": "2023-11-24T12:35:07.054282Z",
     "shell.execute_reply": "2023-11-24T12:35:07.053169Z",
     "shell.execute_reply.started": "2023-11-24T12:34:55.054300Z"
    }
   },
   "outputs": [
    {
     "name": "stdout",
     "output_type": "stream",
     "text": [
      "Defaulting to user installation because normal site-packages is not writeable\n",
      "Collecting git+https://github.com/openai/whisper.git\n",
      "  Cloning https://github.com/openai/whisper.git to /tmp/pip-req-build-tejvz6hc\n",
      "  Running command git clone --filter=blob:none --quiet https://github.com/openai/whisper.git /tmp/pip-req-build-tejvz6hc\n",
      "  Resolved https://github.com/openai/whisper.git to commit e58f28804528831904c3b6f2c0e473f346223433\n",
      "  Preparing metadata (pyproject.toml) ... \u001b[?25ldone\n",
      "\u001b[?25hRequirement already satisfied: triton<3,>=2.0.0 in /usr/local/lib/python3.10/dist-packages (from openai-whisper==20231117) (2.0.0)\n",
      "Requirement already satisfied: numba in /usr/local/lib/python3.10/dist-packages (from openai-whisper==20231117) (0.56.4)\n",
      "Requirement already satisfied: numpy in /usr/local/lib/python3.10/dist-packages (from openai-whisper==20231117) (1.22.4)\n",
      "Requirement already satisfied: torch in /usr/local/lib/python3.10/dist-packages (from openai-whisper==20231117) (2.0.1+cu118)\n",
      "Requirement already satisfied: tqdm in /usr/local/lib/python3.10/dist-packages (from openai-whisper==20231117) (4.65.0)\n",
      "Requirement already satisfied: more-itertools in /usr/local/lib/python3.10/dist-packages (from openai-whisper==20231117) (9.1.0)\n",
      "Requirement already satisfied: tiktoken in /home/jupyter/.local/lib/python3.10/site-packages (from openai-whisper==20231117) (0.5.1)\n",
      "Requirement already satisfied: cmake in /usr/local/lib/python3.10/dist-packages (from triton<3,>=2.0.0->openai-whisper==20231117) (3.25.2)\n",
      "Requirement already satisfied: filelock in /usr/local/lib/python3.10/dist-packages (from triton<3,>=2.0.0->openai-whisper==20231117) (3.12.2)\n",
      "Requirement already satisfied: lit in /usr/local/lib/python3.10/dist-packages (from triton<3,>=2.0.0->openai-whisper==20231117) (16.0.6)\n",
      "Requirement already satisfied: llvmlite<0.40,>=0.39.0dev0 in /usr/local/lib/python3.10/dist-packages (from numba->openai-whisper==20231117) (0.39.1)\n",
      "Requirement already satisfied: setuptools in /kernel/lib/python3.10/site-packages (from numba->openai-whisper==20231117) (51.0.0)\n",
      "Requirement already satisfied: regex>=2022.1.18 in /usr/local/lib/python3.10/dist-packages (from tiktoken->openai-whisper==20231117) (2022.10.31)\n",
      "Requirement already satisfied: requests>=2.26.0 in /usr/local/lib/python3.10/dist-packages (from tiktoken->openai-whisper==20231117) (2.27.1)\n",
      "Requirement already satisfied: typing-extensions in /kernel/lib/python3.10/site-packages (from torch->openai-whisper==20231117) (4.8.0)\n",
      "Requirement already satisfied: sympy in /usr/local/lib/python3.10/dist-packages (from torch->openai-whisper==20231117) (1.11.1)\n",
      "Requirement already satisfied: networkx in /usr/local/lib/python3.10/dist-packages (from torch->openai-whisper==20231117) (3.1)\n",
      "Requirement already satisfied: jinja2 in /kernel/lib/python3.10/site-packages (from torch->openai-whisper==20231117) (3.1.2)\n",
      "Collecting urllib3<1.27,>=1.21.1 (from requests>=2.26.0->tiktoken->openai-whisper==20231117)\n",
      "  Obtaining dependency information for urllib3<1.27,>=1.21.1 from https://files.pythonhosted.org/packages/b0/53/aa91e163dcfd1e5b82d8a890ecf13314e3e149c05270cc644581f77f17fd/urllib3-1.26.18-py2.py3-none-any.whl.metadata\n",
      "  Using cached urllib3-1.26.18-py2.py3-none-any.whl.metadata (48 kB)\n",
      "Requirement already satisfied: certifi>=2017.4.17 in /kernel/lib/python3.10/site-packages (from requests>=2.26.0->tiktoken->openai-whisper==20231117) (2023.7.22)\n",
      "Collecting charset-normalizer~=2.0.0 (from requests>=2.26.0->tiktoken->openai-whisper==20231117)\n",
      "  Using cached charset_normalizer-2.0.12-py3-none-any.whl (39 kB)\n",
      "Requirement already satisfied: idna<4,>=2.5 in /kernel/lib/python3.10/site-packages (from requests>=2.26.0->tiktoken->openai-whisper==20231117) (3.4)\n",
      "Requirement already satisfied: MarkupSafe>=2.0 in /kernel/lib/python3.10/site-packages (from jinja2->torch->openai-whisper==20231117) (2.1.3)\n",
      "Requirement already satisfied: mpmath>=0.19 in /usr/local/lib/python3.10/dist-packages (from sympy->torch->openai-whisper==20231117) (1.3.0)\n",
      "Using cached urllib3-1.26.18-py2.py3-none-any.whl (143 kB)\n",
      "Installing collected packages: urllib3, charset-normalizer\n",
      "\u001b[33m  WARNING: The script normalizer is installed in '/home/jupyter/.local/bin' which is not on PATH.\n",
      "  Consider adding this directory to PATH or, if you prefer to suppress this warning, use --no-warn-script-location.\u001b[0m\u001b[33m\n",
      "\u001b[0mSuccessfully installed charset-normalizer-2.0.12 urllib3-1.26.18\n",
      "\n",
      "\u001b[1m[\u001b[0m\u001b[34;49mnotice\u001b[0m\u001b[1;39;49m]\u001b[0m\u001b[39;49m A new release of pip is available: \u001b[0m\u001b[31;49m23.2.1\u001b[0m\u001b[39;49m -> \u001b[0m\u001b[32;49m23.3.1\u001b[0m\n",
      "\u001b[1m[\u001b[0m\u001b[34;49mnotice\u001b[0m\u001b[1;39;49m]\u001b[0m\u001b[39;49m To update, run: \u001b[0m\u001b[32;49mpython3 -m pip install --upgrade pip\u001b[0m\n"
     ]
    }
   ],
   "source": [
    "%pip install git+https://github.com/openai/whisper.git "
   ]
  },
  {
   "cell_type": "code",
   "execution_count": 5,
   "id": "ed7c93f9-c93b-4eef-819f-1adce51a6805",
   "metadata": {
    "execution": {
     "iopub.execute_input": "2023-11-24T12:35:07.057741Z",
     "iopub.status.busy": "2023-11-24T12:35:07.056736Z",
     "iopub.status.idle": "2023-11-24T12:35:16.939816Z",
     "shell.execute_reply": "2023-11-24T12:35:16.938601Z",
     "shell.execute_reply.started": "2023-11-24T12:35:07.057686Z"
    }
   },
   "outputs": [],
   "source": [
    "import whisper\n",
    "import torch"
   ]
  },
  {
   "cell_type": "code",
   "execution_count": 6,
   "id": "8875e7f2-c5d6-4ed1-9c79-7afdeec7d752",
   "metadata": {
    "execution": {
     "iopub.execute_input": "2023-11-24T12:49:30.141158Z",
     "iopub.status.busy": "2023-11-24T12:49:30.140189Z",
     "iopub.status.idle": "2023-11-24T12:50:42.378018Z",
     "shell.execute_reply": "2023-11-24T12:50:42.376942Z",
     "shell.execute_reply.started": "2023-11-24T12:49:30.141108Z"
    }
   },
   "outputs": [
    {
     "name": "stderr",
     "output_type": "stream",
     "text": [
      "100%|█████████████████████████████████████| 1.42G/1.42G [00:47<00:00, 32.5MiB/s]\n"
     ]
    }
   ],
   "source": [
    "model = whisper.load_model(\"medium\")\n",
    "#при надобности модель сохраняется\n",
    "SAVE = False\n",
    "if (SAVE):\n",
    "    PATH = '/content/model.pkl'\n",
    "    torch.save(model, PATH)\n",
    "LOAD = False\n",
    "# или подгружается\n",
    "if (LOAD):\n",
    "    model = torch.load(PATH)\n"
   ]
  },
  {
   "cell_type": "code",
   "execution_count": 7,
   "id": "24301d71-9a20-4097-b880-386add76c303",
   "metadata": {
    "execution": {
     "iopub.execute_input": "2023-11-24T12:50:42.381494Z",
     "iopub.status.busy": "2023-11-24T12:50:42.380016Z",
     "iopub.status.idle": "2023-11-24T12:50:42.405927Z",
     "shell.execute_reply": "2023-11-24T12:50:42.404756Z",
     "shell.execute_reply.started": "2023-11-24T12:50:42.381457Z"
    }
   },
   "outputs": [
    {
     "data": {
      "text/plain": [
       "Whisper(\n",
       "  (encoder): AudioEncoder(\n",
       "    (conv1): Conv1d(80, 1024, kernel_size=(3,), stride=(1,), padding=(1,))\n",
       "    (conv2): Conv1d(1024, 1024, kernel_size=(3,), stride=(2,), padding=(1,))\n",
       "    (blocks): ModuleList(\n",
       "      (0-23): 24 x ResidualAttentionBlock(\n",
       "        (attn): MultiHeadAttention(\n",
       "          (query): Linear(in_features=1024, out_features=1024, bias=True)\n",
       "          (key): Linear(in_features=1024, out_features=1024, bias=False)\n",
       "          (value): Linear(in_features=1024, out_features=1024, bias=True)\n",
       "          (out): Linear(in_features=1024, out_features=1024, bias=True)\n",
       "        )\n",
       "        (attn_ln): LayerNorm((1024,), eps=1e-05, elementwise_affine=True)\n",
       "        (mlp): Sequential(\n",
       "          (0): Linear(in_features=1024, out_features=4096, bias=True)\n",
       "          (1): GELU(approximate='none')\n",
       "          (2): Linear(in_features=4096, out_features=1024, bias=True)\n",
       "        )\n",
       "        (mlp_ln): LayerNorm((1024,), eps=1e-05, elementwise_affine=True)\n",
       "      )\n",
       "    )\n",
       "    (ln_post): LayerNorm((1024,), eps=1e-05, elementwise_affine=True)\n",
       "  )\n",
       "  (decoder): TextDecoder(\n",
       "    (token_embedding): Embedding(51865, 1024)\n",
       "    (blocks): ModuleList(\n",
       "      (0-23): 24 x ResidualAttentionBlock(\n",
       "        (attn): MultiHeadAttention(\n",
       "          (query): Linear(in_features=1024, out_features=1024, bias=True)\n",
       "          (key): Linear(in_features=1024, out_features=1024, bias=False)\n",
       "          (value): Linear(in_features=1024, out_features=1024, bias=True)\n",
       "          (out): Linear(in_features=1024, out_features=1024, bias=True)\n",
       "        )\n",
       "        (attn_ln): LayerNorm((1024,), eps=1e-05, elementwise_affine=True)\n",
       "        (cross_attn): MultiHeadAttention(\n",
       "          (query): Linear(in_features=1024, out_features=1024, bias=True)\n",
       "          (key): Linear(in_features=1024, out_features=1024, bias=False)\n",
       "          (value): Linear(in_features=1024, out_features=1024, bias=True)\n",
       "          (out): Linear(in_features=1024, out_features=1024, bias=True)\n",
       "        )\n",
       "        (cross_attn_ln): LayerNorm((1024,), eps=1e-05, elementwise_affine=True)\n",
       "        (mlp): Sequential(\n",
       "          (0): Linear(in_features=1024, out_features=4096, bias=True)\n",
       "          (1): GELU(approximate='none')\n",
       "          (2): Linear(in_features=4096, out_features=1024, bias=True)\n",
       "        )\n",
       "        (mlp_ln): LayerNorm((1024,), eps=1e-05, elementwise_affine=True)\n",
       "      )\n",
       "    )\n",
       "    (ln): LayerNorm((1024,), eps=1e-05, elementwise_affine=True)\n",
       "  )\n",
       ")"
      ]
     },
     "execution_count": 7,
     "metadata": {},
     "output_type": "execute_result"
    }
   ],
   "source": [
    "model"
   ]
  },
  {
   "cell_type": "code",
   "execution_count": 9,
   "id": "a8e4e4df-61d5-4a81-8281-1552cc832413",
   "metadata": {
    "execution": {
     "iopub.execute_input": "2023-11-24T12:52:03.759321Z",
     "iopub.status.busy": "2023-11-24T12:52:03.758447Z",
     "iopub.status.idle": "2023-11-24T12:55:29.679129Z",
     "shell.execute_reply": "2023-11-24T12:55:29.677906Z",
     "shell.execute_reply.started": "2023-11-24T12:52:03.759284Z"
    },
    "tags": []
   },
   "outputs": [],
   "source": [
    "path_to_mp3 = '/home/jupyter/datasphere/project/data/audio6.mp3'\n",
    "result = model.transcribe(path_to_mp3, language = 'ru')"
   ]
  },
  {
   "cell_type": "code",
   "execution_count": 10,
   "id": "93364a0f-4bf3-4a39-95f5-a4f16674194e",
   "metadata": {
    "execution": {
     "iopub.execute_input": "2023-11-24T12:56:40.537136Z",
     "iopub.status.busy": "2023-11-24T12:56:40.536321Z",
     "iopub.status.idle": "2023-11-24T12:56:40.555315Z",
     "shell.execute_reply": "2023-11-24T12:56:40.553850Z",
     "shell.execute_reply.started": "2023-11-24T12:56:40.537102Z"
    }
   },
   "outputs": [],
   "source": [
    "#сохраняем транскрибированный текст\n",
    "path_to_save_txt = \"/home/jupyter/datasphere/project/res/medium/transcription6.txt\"\n",
    "with open(path_to_save_txt, \"w\") as output:\n",
    "    output.write(str(result['text']))"
   ]
  },
  {
   "cell_type": "code",
   "execution_count": 12,
   "id": "26204acf-17f2-438c-bcc6-161bf088a58c",
   "metadata": {
    "execution": {
     "iopub.execute_input": "2023-11-24T13:00:44.819640Z",
     "iopub.status.busy": "2023-11-24T13:00:44.818369Z",
     "iopub.status.idle": "2023-11-24T13:00:44.834695Z",
     "shell.execute_reply": "2023-11-24T13:00:44.833534Z",
     "shell.execute_reply.started": "2023-11-24T13:00:44.819589Z"
    }
   },
   "outputs": [],
   "source": [
    "import pandas as pd"
   ]
  },
  {
   "cell_type": "code",
   "execution_count": 13,
   "id": "640113c9-412f-4fce-b653-1f6047b412af",
   "metadata": {
    "execution": {
     "iopub.execute_input": "2023-11-24T13:00:45.604235Z",
     "iopub.status.busy": "2023-11-24T13:00:45.603553Z",
     "iopub.status.idle": "2023-11-24T13:00:45.662191Z",
     "shell.execute_reply": "2023-11-24T13:00:45.661067Z",
     "shell.execute_reply.started": "2023-11-24T13:00:45.604203Z"
    },
    "tags": []
   },
   "outputs": [],
   "source": [
    "#сохраняем csv с временными метками\n",
    "path_to_save_csv = '/home/jupyter/datasphere/project/res/medium/res6.csv'\n",
    "pd.DataFrame(result['segments']).to_csv(path_to_save_csv)"
   ]
  },
  {
   "cell_type": "markdown",
   "id": "c28f70b6-730a-443c-9015-22ae53da90f7",
   "metadata": {},
   "source": [
    "## Исправляем орфографию"
   ]
  },
  {
   "cell_type": "code",
   "execution_count": 15,
   "id": "a4a04346-9a4f-4c40-8ffd-bab72a83eedd",
   "metadata": {
    "execution": {
     "iopub.execute_input": "2023-11-24T13:07:30.974685Z",
     "iopub.status.busy": "2023-11-24T13:07:30.973692Z",
     "iopub.status.idle": "2023-11-24T13:07:42.656277Z",
     "shell.execute_reply": "2023-11-24T13:07:42.654977Z",
     "shell.execute_reply.started": "2023-11-24T13:07:30.974633Z"
    },
    "tags": []
   },
   "outputs": [
    {
     "name": "stdout",
     "output_type": "stream",
     "text": [
      "Defaulting to user installation because normal site-packages is not writeable\n",
      "Requirement already satisfied: transformers in /home/jupyter/.local/lib/python3.10/site-packages (4.35.2)\n",
      "Collecting sentencepiece\n",
      "  Downloading sentencepiece-0.1.99-cp310-cp310-manylinux_2_17_x86_64.manylinux2014_x86_64.whl (1.3 MB)\n",
      "\u001b[2K     \u001b[90m━━━━━━━━━━━━━━━━━━━━━━━━━━━━━━━━━━━━━━━━\u001b[0m \u001b[32m1.3/1.3 MB\u001b[0m \u001b[31m4.8 MB/s\u001b[0m eta \u001b[36m0:00:00\u001b[0ma \u001b[36m0:00:01\u001b[0m0m\n",
      "\u001b[?25hCollecting datasets\n",
      "  Obtaining dependency information for datasets from https://files.pythonhosted.org/packages/e2/cf/db41e572d7ed958e8679018f8190438ef700aeb501b62da9e1eed9e4d69a/datasets-2.15.0-py3-none-any.whl.metadata\n",
      "  Downloading datasets-2.15.0-py3-none-any.whl.metadata (20 kB)\n",
      "Requirement already satisfied: filelock in /usr/local/lib/python3.10/dist-packages (from transformers) (3.12.2)\n",
      "Requirement already satisfied: huggingface-hub<1.0,>=0.16.4 in /home/jupyter/.local/lib/python3.10/site-packages (from transformers) (0.19.4)\n",
      "Requirement already satisfied: numpy>=1.17 in /usr/local/lib/python3.10/dist-packages (from transformers) (1.22.4)\n",
      "Requirement already satisfied: packaging>=20.0 in /kernel/lib/python3.10/site-packages (from transformers) (23.2)\n",
      "Requirement already satisfied: pyyaml>=5.1 in /usr/local/lib/python3.10/dist-packages (from transformers) (6.0.1)\n",
      "Requirement already satisfied: regex!=2019.12.17 in /usr/local/lib/python3.10/dist-packages (from transformers) (2022.10.31)\n",
      "Requirement already satisfied: requests in /usr/local/lib/python3.10/dist-packages (from transformers) (2.27.1)\n",
      "Requirement already satisfied: tokenizers<0.19,>=0.14 in /home/jupyter/.local/lib/python3.10/site-packages (from transformers) (0.15.0)\n",
      "Requirement already satisfied: safetensors>=0.3.1 in /home/jupyter/.local/lib/python3.10/site-packages (from transformers) (0.4.0)\n",
      "Requirement already satisfied: tqdm>=4.27 in /usr/local/lib/python3.10/dist-packages (from transformers) (4.65.0)\n",
      "Requirement already satisfied: pyarrow>=8.0.0 in /usr/local/lib/python3.10/dist-packages (from datasets) (9.0.0)\n",
      "Collecting pyarrow-hotfix (from datasets)\n",
      "  Obtaining dependency information for pyarrow-hotfix from https://files.pythonhosted.org/packages/e4/f4/9ec2222f5f5f8ea04f66f184caafd991a39c8782e31f5b0266f101cb68ca/pyarrow_hotfix-0.6-py3-none-any.whl.metadata\n",
      "  Downloading pyarrow_hotfix-0.6-py3-none-any.whl.metadata (3.6 kB)\n",
      "Collecting dill<0.3.8,>=0.3.0 (from datasets)\n",
      "  Obtaining dependency information for dill<0.3.8,>=0.3.0 from https://files.pythonhosted.org/packages/f5/3a/74a29b11cf2cdfcd6ba89c0cecd70b37cd1ba7b77978ce611eb7a146a832/dill-0.3.7-py3-none-any.whl.metadata\n",
      "  Downloading dill-0.3.7-py3-none-any.whl.metadata (9.9 kB)\n",
      "Requirement already satisfied: pandas in /usr/local/lib/python3.10/dist-packages (from datasets) (1.5.3)\n",
      "Requirement already satisfied: xxhash in /kernel/fallback/lib/python3.10/site-packages (from datasets) (2.0.0)\n",
      "Collecting multiprocess (from datasets)\n",
      "  Obtaining dependency information for multiprocess from https://files.pythonhosted.org/packages/35/a8/36d8d7b3e46b377800d8dec47891cdf05842d1a2366909ae4a0c89fbc5e6/multiprocess-0.70.15-py310-none-any.whl.metadata\n",
      "  Downloading multiprocess-0.70.15-py310-none-any.whl.metadata (7.2 kB)\n",
      "Requirement already satisfied: fsspec[http]<=2023.10.0,>=2023.1.0 in /usr/local/lib/python3.10/dist-packages (from datasets) (2023.6.0)\n",
      "Requirement already satisfied: aiohttp in /usr/local/lib/python3.10/dist-packages (from datasets) (3.8.5)\n",
      "Requirement already satisfied: attrs>=17.3.0 in /kernel/lib/python3.10/site-packages (from aiohttp->datasets) (23.1.0)\n",
      "Requirement already satisfied: charset-normalizer<4.0,>=2.0 in /kernel/lib/python3.10/site-packages (from aiohttp->datasets) (3.3.2)\n",
      "Requirement already satisfied: multidict<7.0,>=4.5 in /usr/local/lib/python3.10/dist-packages (from aiohttp->datasets) (6.0.4)\n",
      "Requirement already satisfied: async-timeout<5.0,>=4.0.0a3 in /usr/local/lib/python3.10/dist-packages (from aiohttp->datasets) (4.0.2)\n",
      "Requirement already satisfied: yarl<2.0,>=1.0 in /usr/local/lib/python3.10/dist-packages (from aiohttp->datasets) (1.9.2)\n",
      "Requirement already satisfied: frozenlist>=1.1.1 in /usr/local/lib/python3.10/dist-packages (from aiohttp->datasets) (1.4.0)\n",
      "Requirement already satisfied: aiosignal>=1.1.2 in /usr/local/lib/python3.10/dist-packages (from aiohttp->datasets) (1.3.1)\n",
      "Requirement already satisfied: typing-extensions>=3.7.4.3 in /kernel/lib/python3.10/site-packages (from huggingface-hub<1.0,>=0.16.4->transformers) (4.8.0)\n",
      "Collecting urllib3<1.27,>=1.21.1 (from requests->transformers)\n",
      "  Obtaining dependency information for urllib3<1.27,>=1.21.1 from https://files.pythonhosted.org/packages/b0/53/aa91e163dcfd1e5b82d8a890ecf13314e3e149c05270cc644581f77f17fd/urllib3-1.26.18-py2.py3-none-any.whl.metadata\n",
      "  Using cached urllib3-1.26.18-py2.py3-none-any.whl.metadata (48 kB)\n",
      "Requirement already satisfied: certifi>=2017.4.17 in /kernel/lib/python3.10/site-packages (from requests->transformers) (2023.7.22)\n",
      "Collecting charset-normalizer<4.0,>=2.0 (from aiohttp->datasets)\n",
      "  Using cached charset_normalizer-2.0.12-py3-none-any.whl (39 kB)\n",
      "Requirement already satisfied: idna<4,>=2.5 in /kernel/lib/python3.10/site-packages (from requests->transformers) (3.4)\n",
      "Requirement already satisfied: python-dateutil>=2.8.1 in /kernel/lib/python3.10/site-packages (from pandas->datasets) (2.8.2)\n",
      "Requirement already satisfied: pytz>=2020.1 in /usr/local/lib/python3.10/dist-packages (from pandas->datasets) (2022.7.1)\n",
      "Requirement already satisfied: six>=1.5 in /kernel/lib/python3.10/site-packages (from python-dateutil>=2.8.1->pandas->datasets) (1.16.0)\n",
      "Downloading datasets-2.15.0-py3-none-any.whl (521 kB)\n",
      "\u001b[2K   \u001b[90m━━━━━━━━━━━━━━━━━━━━━━━━━━━━━━━━━━━━━━━━\u001b[0m \u001b[32m521.2/521.2 kB\u001b[0m \u001b[31m34.1 MB/s\u001b[0m eta \u001b[36m0:00:00\u001b[0m\n",
      "\u001b[?25hDownloading dill-0.3.7-py3-none-any.whl (115 kB)\n",
      "\u001b[2K   \u001b[90m━━━━━━━━━━━━━━━━━━━━━━━━━━━━━━━━━━━━━━━━\u001b[0m \u001b[32m115.3/115.3 kB\u001b[0m \u001b[31m11.1 MB/s\u001b[0m eta \u001b[36m0:00:00\u001b[0m\n",
      "\u001b[?25hDownloading multiprocess-0.70.15-py310-none-any.whl (134 kB)\n",
      "\u001b[2K   \u001b[90m━━━━━━━━━━━━━━━━━━━━━━━━━━━━━━━━━━━━━━━━\u001b[0m \u001b[32m134.8/134.8 kB\u001b[0m \u001b[31m12.6 MB/s\u001b[0m eta \u001b[36m0:00:00\u001b[0m\n",
      "\u001b[?25hDownloading pyarrow_hotfix-0.6-py3-none-any.whl (7.9 kB)\n",
      "Using cached urllib3-1.26.18-py2.py3-none-any.whl (143 kB)\n",
      "Installing collected packages: sentencepiece, urllib3, pyarrow-hotfix, dill, charset-normalizer, multiprocess, datasets\n",
      "\u001b[33m  WARNING: The script normalizer is installed in '/home/jupyter/.local/bin' which is not on PATH.\n",
      "  Consider adding this directory to PATH or, if you prefer to suppress this warning, use --no-warn-script-location.\u001b[0m\u001b[33m\n",
      "\u001b[0m\u001b[33m  WARNING: The script datasets-cli is installed in '/home/jupyter/.local/bin' which is not on PATH.\n",
      "  Consider adding this directory to PATH or, if you prefer to suppress this warning, use --no-warn-script-location.\u001b[0m\u001b[33m\n",
      "\u001b[0mSuccessfully installed charset-normalizer-2.0.12 datasets-2.15.0 dill-0.3.7 multiprocess-0.70.15 pyarrow-hotfix-0.6 sentencepiece-0.1.99 urllib3-1.26.18\n",
      "\n",
      "\u001b[1m[\u001b[0m\u001b[34;49mnotice\u001b[0m\u001b[1;39;49m]\u001b[0m\u001b[39;49m A new release of pip is available: \u001b[0m\u001b[31;49m23.2.1\u001b[0m\u001b[39;49m -> \u001b[0m\u001b[32;49m23.3.1\u001b[0m\n",
      "\u001b[1m[\u001b[0m\u001b[34;49mnotice\u001b[0m\u001b[1;39;49m]\u001b[0m\u001b[39;49m To update, run: \u001b[0m\u001b[32;49mpython3 -m pip install --upgrade pip\u001b[0m\n"
     ]
    }
   ],
   "source": [
    "%pip install transformers sentencepiece datasets"
   ]
  },
  {
   "cell_type": "code",
   "execution_count": 16,
   "id": "85ed8b5b-47b5-4180-8be9-3ec0334fae8b",
   "metadata": {
    "execution": {
     "iopub.execute_input": "2023-11-24T13:07:42.659406Z",
     "iopub.status.busy": "2023-11-24T13:07:42.658767Z",
     "iopub.status.idle": "2023-11-24T13:07:51.617409Z",
     "shell.execute_reply": "2023-11-24T13:07:51.616137Z",
     "shell.execute_reply.started": "2023-11-24T13:07:42.659366Z"
    }
   },
   "outputs": [
    {
     "name": "stdout",
     "output_type": "stream",
     "text": [
      "Defaulting to user installation because normal site-packages is not writeable\n",
      "Collecting autocorrect\n",
      "  Downloading autocorrect-2.6.1.tar.gz (622 kB)\n",
      "\u001b[2K     \u001b[90m━━━━━━━━━━━━━━━━━━━━━━━━━━━━━━━━━━━━━━━\u001b[0m \u001b[32m622.8/622.8 kB\u001b[0m \u001b[31m2.9 MB/s\u001b[0m eta \u001b[36m0:00:00\u001b[0m00:01\u001b[0m00:01\u001b[0m\n",
      "\u001b[?25h  Preparing metadata (setup.py) ... \u001b[?25ldone\n",
      "\u001b[?25hBuilding wheels for collected packages: autocorrect\n",
      "  Building wheel for autocorrect (setup.py) ... \u001b[?25ldone\n",
      "\u001b[?25h  Created wheel for autocorrect: filename=autocorrect-2.6.1-py3-none-any.whl size=622381 sha256=b5110ad4c69fb4bc4925b8f282d54ec2d02b66fc9f05ee9d5dc69e3d1766f650\n",
      "  Stored in directory: /tmp/xdg_cache/pip/wheels/b5/7b/6d/b76b29ce11ff8e2521c8c7dd0e5bfee4fb1789d76193124343\n",
      "Successfully built autocorrect\n",
      "Installing collected packages: autocorrect\n",
      "Successfully installed autocorrect-2.6.1\n",
      "\n",
      "\u001b[1m[\u001b[0m\u001b[34;49mnotice\u001b[0m\u001b[1;39;49m]\u001b[0m\u001b[39;49m A new release of pip is available: \u001b[0m\u001b[31;49m23.2.1\u001b[0m\u001b[39;49m -> \u001b[0m\u001b[32;49m23.3.1\u001b[0m\n",
      "\u001b[1m[\u001b[0m\u001b[34;49mnotice\u001b[0m\u001b[1;39;49m]\u001b[0m\u001b[39;49m To update, run: \u001b[0m\u001b[32;49mpython3 -m pip install --upgrade pip\u001b[0m\n"
     ]
    }
   ],
   "source": [
    "%pip install autocorrect"
   ]
  },
  {
   "cell_type": "code",
   "execution_count": 17,
   "id": "f4284435-fd3c-41b2-b10e-8598d14e31f6",
   "metadata": {
    "execution": {
     "iopub.execute_input": "2023-11-24T13:09:57.456645Z",
     "iopub.status.busy": "2023-11-24T13:09:57.455476Z",
     "iopub.status.idle": "2023-11-24T13:09:57.473296Z",
     "shell.execute_reply": "2023-11-24T13:09:57.472157Z",
     "shell.execute_reply.started": "2023-11-24T13:09:57.456592Z"
    }
   },
   "outputs": [],
   "source": [
    "path_txt_name = \"/home/jupyter/datasphere/project/res/medium/transcription1.txt\""
   ]
  },
  {
   "cell_type": "code",
   "execution_count": 18,
   "id": "248d2285-19eb-4720-806b-be2ea8c8ddf6",
   "metadata": {
    "execution": {
     "iopub.execute_input": "2023-11-24T13:09:58.524398Z",
     "iopub.status.busy": "2023-11-24T13:09:58.523459Z",
     "iopub.status.idle": "2023-11-24T13:10:04.211692Z",
     "shell.execute_reply": "2023-11-24T13:10:04.210565Z",
     "shell.execute_reply.started": "2023-11-24T13:09:58.524346Z"
    }
   },
   "outputs": [
    {
     "name": "stdout",
     "output_type": "stream",
     "text": [
      "dictionary for this language not found, downloading...\n",
      "__________________________________________________\n",
      ">>>>>>>>>>>>>>>>>>>>>>>>>>>>>>>>>>>>>>>>>>>>>>>>>>\n",
      "done!\n"
     ]
    }
   ],
   "source": [
    "from autocorrect import Speller\n",
    "spell = Speller('ru')"
   ]
  },
  {
   "cell_type": "code",
   "execution_count": 23,
   "id": "ba1fcb44-7330-411f-b0f2-369e98ab8143",
   "metadata": {
    "execution": {
     "iopub.execute_input": "2023-11-24T13:15:20.337067Z",
     "iopub.status.busy": "2023-11-24T13:15:20.335951Z",
     "iopub.status.idle": "2023-11-24T13:15:24.979006Z",
     "shell.execute_reply": "2023-11-24T13:15:24.977727Z",
     "shell.execute_reply.started": "2023-11-24T13:15:20.336990Z"
    },
    "tags": []
   },
   "outputs": [],
   "source": [
    "text_file = open(path_txt_name, \"r\")\n",
    "data = text_file.read()\n",
    "redacted = spell(data)\n",
    "path_to_save_redacted_txt = \"/home/jupyter/datasphere/project/res/medium/redacted1.txt\"\n",
    "file = open(path_to_save_redacted_txt, \"w\")\n",
    "file.write(redacted)\n",
    "file.close()"
   ]
  },
  {
   "cell_type": "code",
   "execution_count": 22,
   "id": "4f5a1fc1-a490-4cab-9e2c-5d38fbd0fee2",
   "metadata": {
    "execution": {
     "iopub.execute_input": "2023-11-24T13:13:04.833497Z",
     "iopub.status.busy": "2023-11-24T13:13:04.832638Z",
     "iopub.status.idle": "2023-11-24T13:13:04.861028Z",
     "shell.execute_reply": "2023-11-24T13:13:04.859581Z",
     "shell.execute_reply.started": "2023-11-24T13:13:04.833446Z"
    },
    "tags": []
   },
   "outputs": [
    {
     "data": {
      "text/plain": [
       "' Друзья, привет! С вами снова я Денис. Рад вас приветствовать на лекции. Сегодня мы будем говорить о массивах. На прошлой лекции мы познакомились с языком программирования C-sharp, с его основными характеристиками, а также решили блок базовой задачи. На семинарах вы практиковались в разработке циклических условных конструкций, применяли арифметические операторы, а также операции водовода. Сегодня мы вспомним основные понятия, связанные с массивами, их характеристики, поговорим о том, в каких задачах массивы могут применяться. Познакомимся, как осуществляется операция создания, заполнения, а также вывода массивов на экран и решим блок задач на их обработку. Ближе к концу лекции мы познакомимся с двумя разновидностями циклов FOR и FORGE, а также, друзья, поговорим о таком важном аспекте, как изучение английского для программистов. Друзья, перед тем как приступить к практике и начать решать задачи, давайте вспомним, а что из себя представляет массив и какими характеристиками он обладает. Начнем с ключевого термина этой лекции – массив. Массив представляет собой структуру данных, которая предназачен для хранения элементов, как правило, одного типа. Массив может состоять из целых чисел, вещественных, может состоять из символов, а также, например, из строк. Если приводить примеры из реальной жизни, то массива мы можем назвать упорядоченный набор инструментов или же набор елочных игрушек, которые также обладают характеристикой упорядоченности. Второй важный термин – это индекс элемента массива. Друзья, этот термин можно сформулировать по-разному, приведем наиболее популярные формулировки. Итак, первое – это смещение элемента относительно начала массива, то есть насколько позиции элемент смещен относительно его левой границы. Ну и вторая формулировка, наиболее простая, это просто позиция элемента массива. Друзья, напомню, что в большинстве языков программирования индекс массива начинается с нуля. Перейдем к основным характеристикам массивов. Первая характеристика – это то, что массив должен иметь имя, еще его называют идентификатор. С помощью имени мы осуществляем обращение к элементам массива. Если нам нужно изменить элемент или же просто его прочитать, то мы используем операцию обращения к элементам по индексу. Также, друзья, эту операцию называют индексация. В большинстве языков программирования она обозначается с помощью пары квадратных скобок. В примере приведен массив из пяти элементов, и ниже вы можете видеть обращение к каждому его элементу с помощью оператора квадратной скобки. Отметим важную характеристику, которая определяет внутреннее устройство массивов. Друзья, элементы в массиве располагаются последовательно, то есть в памяти они занимают ячейку за ячейкой. Ни в коем случае элементы в массиве не расположены хаотично или же в каком-либо другом порядке. Ну и в заключение добавим, что массивы имеют конечный размер, поскольку объем памяти у нас всегда ограничен. Итак, после небольшого экскурса в теорию давайте посмотрим, как будут выглядеть основные операции при работе с массивами на языке C-sharp. Рассмотрим создание, заполнение и вывод массива на экран. В языке C-sharp создание массива состоит из трех основных этапов. Первый этап – это указание типа данных для элемента массива. Также, друзья, мы указываем оператор квадратной склоки, чтобы показать, что у нас именно создается массив, а не обычная переменная. Второй этап – это указание идентификатора или же имени массива. В данном примере, друзья, мы пользуемся именем r, что является сокращением от array. Друзья, рекомендую давать массивам осмысленные имена. В самом простом случае можно дать имя array, однако рекомендую задуматься над более осмысленным именованием. Как в предельных примерах, если вы оперируете набором файлов, то такой массив можно назвать именем files. Если же вы оперируете набором среднесуточных температур, то подобный массив можно назвать average dilated temperatures или сократить до average dilated temps. Но здесь важно не злоупотреблять сокращением в именовании переменных, особенно если эти имена становятся необщепринятыми и общеизвестными. Имена array, r вполне допустимы для учебных задач, где мы делаем упор на демонстрацию той или иной техники по обработке массивов. То есть акцент делается не на конкретной предметной области. Следующий этап – это выделение памяти от элемента массива. На данном этапе мы указываем количество элементов, а также используем оператор new, который нам выделит фрагмент памяти для хранения будущих элементов. На этом три основные операции по созданию массива закончены, но также, друзья, можно выделить и четвертый этап. Он заключается в связывании участков памяти, который мы выделили с помощью оператора new с именем массива, с помощью оператора присваивания. Работать сегодня мы будем в каталоге урок 2. Друзья, иерархия каталогов на сегодня у меня уже создана. Перейдем в каталог с заданием 1 и создадим там проект, знакомый вам командой .NET New Console. Перейдем в файл с исходным кодом program.cs, удалим код, который сгенерировался по умолчанию. Итак, укажем тип данных массив целых чисел. Далее дадим массиву имя, например, и имя, который мы будем использовать для создания код. Друзья, если был бы у нас массив вещественных чисел, то в этом случае мы слева изменили и выделили их. И мы будем использовать их для создания код. Друзья, если вы хотите сделать такой массив, то вы можете сделать такой массив. Друзья, если был бы у нас массив вещественных чисел, то в этом случае мы слева от присваивания да и справа от присваивания использовали бы тип данных double или же float. Друзья, после выполнения данной операции у нас будет создан массив на 5 целых чисел. Обращаться к нему мы можем, используя его имя. Отмечу, что в языке C sharp элементы при создании массива имеют значение по умолчанию. Если это числовой массив, то элементами являются нули. Далее заполним массив произвольными целыми числами. Напомним, друзья, что для изменения элементов массива мы используем оператор индексации. И в квадратных скобках указываем индекс элемента. Запомним его произвольными целыми числами. Для ускорения можно скопировать эти конструкции. И не забываем менять индексы массива. В данном случае они у нас изменяются от нулевого и до размера массива минус 1. Сделаем элементы массива относительно случайными. Проверим, действительно ли массив заполнен. Для этого выведем каждый элемент на экран знакомым методом в WriteLine из модуля консоли. Для вывода элементов, для обращения мы также используем имя массива. И операция индексации с указанием индекса необходимого нам элемента. Для ускорения конструкцию вывода можно скопировать необходимое количество раз. Заменив индексы на соответствующих позициях. Друзья, выполним наш код с помощью команды .NETRUN. На экране мы видим значения, которые были помещены в массив. А как вы думаете, что произойдет, если мы обратимся к элементу с индексом 50, который мы видим на экране? Получится, что мы можем обращать значения, которые были помещены в массив. А как вы думаете, что произойдет, если мы обратимся к элементу с индексом 5, при том, что количество элементов в массиве равно 5? Давайте это проверим и попробуем вывести на экран элемент с индексом равным 5. Итак, воспользуемся все тем же методом консоли Brightline и выведем на экран массив с индексом равным 5. Сохраним исходный код и запустим наш проект еще раз. Друзья, обратите внимание, что на экране у нас вывелась ошибка, связанная с выходом за границы массива. То есть таким образом среда выполнения предупреждает нас о том, что недопустимо обращаться за границы памяти, который мы выделили для массива. Закомментируем строчку с недопустимым обращением к массиву и давайте продолжим. Итак, друзья, мы создали массив на 5 элементов, заполнили его числами и вывели их на экран. Давайте рассмотрим способ заполнения массива сразу же при его создании. Для этого воспользуемся той же конструкцией, которую мы использовали, только с небольшим изменением. Все также будем создавать массив целочисленный. Дадим ему имя R2, поскольку имя R уже занято. И после указания имени выделим память на все те же 5 элементов, обязательно с указанием типа данных, и заполняем их произвольными целыми числами сразу же при создании этого массива. Друзья, напомню, что редактор Vizho Studio Code имеет инструменты форматирования кода. Для этого можно выделить необходимый участок, нажать правой кнопкой мыши и выбрать пункт меню формат документ или сочетание горячих клавиш shift alt f. Отмечу, что в C-sharp можно использовать упрощенный синтаксиса для создания массива. Он заключается в том, что команду на выделение памяти, то есть new int и указание количества элементов, в некоторых случаях можно не использовать. Например, создадим целочисленный массив, дадим ему имя Ray3 и заполним его 5 целыми числами. Друзья, в этом случае команду на выделение памяти мы можем не использовать, поскольку число элементов у нас фиксировано и мы их указываем сразу при создании массива. Способ достаточно удобный для создания небольших массивов, когда заранее известные элементы. Друзья, отмечу, что, вероятно, знакомый многим из вас язык программирования Python имеет схожий синтаксис создания массива. Выглядит он примерно следующим образом. И также отмечу, что тип данных у массива мы не указываем. Не забываем, друзья, форматировать наш код, чтобы повысить его читаемость. Сохраним наши наработки в репозитории edit, проиндексирует целиком каталог task1, далее сформируем commit с указанием комментария о том, что мы добавили первую задачу в уроке 2 и отправим наши наработки на удаленный репозиторий. Друзья, перед тем как приступить к решению задач, давайте поговорим о том, а какие именно классы задач могут быть решены с помощью массивов, а также каким специальностям навыки работы с массивами и в целом знание о слов программирования будет полезным. Один из самых простых вариантов использования это хранение однотипных элементов и последующее обращение к ним. Например, в массиве мы можем сохранить набор целых чисел, чисел с плавающей точкой, символов или же набор строк, которые составляют некоторый текст. Также в массиве можем сохранить и более сложные объекты, например файлы. Массивы часто используются для поиска элементов по какому-либо критерию. Например, знакомый вам поиск минимального и максимального значения среди набора целых чисел. Если же рассмотреть набор строк в виде имен файлов как массив, то в таком массиве мы можем осуществить поиск графических файлов, файлов с видео содержимым или же, например, файлов с исходным кодом. В данном случае критерием будет расширение файла. Также отметим класс задач, в которых необходимо вычислить некоторую характеристику от всего набора элементов. Это может быть сумма значений, это может быть произведение или среднее значение. Друзья, в качестве примера можно рассмотреть вычисления суммарных затрат на предприятии. В таком массиве элементами могут быть затраты предприятия за день, за неделю или же, например, за месяц. Друзья, вопрос на засыпку. А как вы думаете, какой тип данных может быть у элементов в подобном массиве? Свои предположения можете написать в чат. Второй пример — это нахождение средней температуры за год. В таком массиве элементами могут быть значения температур за месяц, из которых потом будет вычисляться среднегодовое значение. Друзья, перед тем как порешать конкретные задачки на обработку массивов, давайте обсудим еще такой вопрос, как применимость знаний о массиве, да, ну и в целом навыков программирования на конкретных специальностях. Наиболее очевидный случай — это разработчик. Массивы являются достаточно простой и базовой структурой данных, с которой программисты знакомятся в первую очередь. После изучения массивов, а также получения навыков по их обработке, можно переходить к изучению таких структур данных, как стэк, очередь или же связанный список. Следующая специальность, где навыки работы с массивами не будут лишними — это тестировщик программного обеспечения. На старте профессии умение программировать, вероятно, вам не понадобится, особенно если речь идет о ручном тестировании. Однако, если вам понадобится освоить автоматизированное тестирование, то здесь уже, друзья, без навыков программирования не обойтись. В частности, понимание массивов, а также навыки работы с ними существенно ускорят изучение языка программирования высокого уровня. К специальностям аналитик, продукт, а также project manager высоких требований в плане владения конкретным языком программирования не предъявляется. Однако умение программировать, и в том числе навыки работы с массивами, будут достаточно полезны аналитику, особенно если в круг его задач входит работа с большими объемами данных. Product и Project Manager, понимание основ программирования, будет достаточно полезно для взаимодействия с командой разработки, в частности, чтобы вести диалог с программистами на одном языке. Итак, друзья, давайте перейдем к первой задаче. В ней требуется заполнить массив целыми числами от 1 до n, где n — некоторое целое число, и вывести этот массив на экран. Давайте перечислим основные этапы в решении этой задачи, затем сформируем с вами блок-схему и программируем на языке C-sharp. Первым шагом нам необходимо понять, а какой размер будет иметь создаваемый массив. Для этого, друзья, введем натуральное число n, после чего вторым шагом можем создать массив на n элементов, выделив под него память. Третьим этапом можно заполнить массив конкретными числами, после чего вывести его на экран. Для создания блок-схемы давайте вспомним задачу с предыдущего урока на вывод чисел от 1 до n. Друзья, обратите внимание, что эта задача очень похожа на текущую, поскольку в ней формируется число от 1 до n и затем выводится на экран. Давайте посмотрим, как можно модифицировать эту схему для решения нашей задачи. Первый этап у нас уже выполнен, ввод числа n в схеме уже присутствует. Добавим создание массива в блоке инициализации переменных до запуска цикла. Друзья, обратите внимание, что создание массива у меня выделено желтым цветом. И напомню вам, что под созданием массива мы понимаем выделение участка памяти для размещения элементов. Далее добавим основное действие, которое позволит заполнить массив. Для этого поместим значение счетчика на очередную позицию массива. Друзья, обратите внимание, что переменная счетчик изначально равна нулю, поэтому мы помещаем в массив число на единицу больше, то есть, как видно из схемы i плюс 1. Таким образом, друзья, в массив мы будем помещать числа 1, 2, 3 и так далее до числа n. Вывод элемента массива можно разместить в этом же цикле, но, друзья, сделать это нужно после помещения очередного значения в массив. Иначе мы будем выводить элементы массива до их формирования. Также отмечу, что вывод элементов можно сделать и в отдельном цикле. То есть, сначала у нас будет идти цикл по формированию элементов массива, и ниже точно такой же цикл для их вывода. Итак, наш блок схемы готова. Давайте посмотрим, как этот алгоритм будет выглядеть на языке C Sharp. Перейдем в каталог с заданием 2 и создадим там проект командой .NET New Console. Перейдем в файл с исходным кодом, удалим код сгенерированный по умолчанию и, согласно нашей блок схеме, создадим целочисленную переменную n равную 10. Друзья, поскольку число элементов в массиве заранее неизвестно, то мы будем пользоваться стандартным синтаксисом создания массива с указанием оператора New, типа данных и количества элементов, для которых мы будем создавать массив. Создадим переменную счетчик i изначально равную 0. Для заполнения и вывода мы используем цикл, поскольку будем повторять одни и те же действия, пока не дойдем до конца массива. Создадим цикл while с условием i строго меньше, чем количество элементов в массиве. В теле цикла сформируем очередной элемент массива i плюс 1 и поместим его на требуемую позицию в массиве R. Давайте выведем сразу его на экран с помощью инструкции. Друзья, чтобы элементы у нас не слипались при выводе, добавим пробел после каждого элемента. То есть продублируем инструкцию консоли в райд, только вместо элемента мы укажем символ пробела. И не забываем перейти к следующему значению счетчика путем увеличения его на единицу. Друзья, обратите внимание на вывод элементов на экран. Давайте оформим это более изящно и в одну строку. Воспользуемся средством C sharp, которое позволяет выводить на экран строку и помещать в нее переменную. Для этого воспользуемся все тем же методом консоли в райд. Только перед строкой мы поставим значок доллара и в самой строке значение очередного элемента массива array с index i. Поместим в фигурные скобки и добавим знак пробела. Друзья, в этом случае то, что было помещено в фигурные скобки будет рассматриваться как значение элемента массива или же, например, переменная и будет выведено на экран именно то, что находится в памяти, то есть сам элемент массива. Итак, давайте запустим наш код команды .NET Run. На экране мы видим приветственное сообщение Hello world. Однако, друзья, такого кода в файле до нашим программ.cs нет. Такая ситуация часто возникает, если мы забываем сохранить изменения в исходном файле. Давайте сохраним изменения путем нажатия комбинации клавиш Ctrl-S и запустим наш код еще раз. На экране мы видим последовательность чисел от 1 до 10. Следовательно, для этого набора элементов алгоритм работает верно. Друзья, обращу ваше внимание, что вместо использования переменной N, которая хранит количество элементов массива, мы можем воспользоваться свойством массива. Для этого обратимся по его имени, поставим точку и будет предложен набор методов и свойств, которыми располагает объект массив. Друзья, нам здесь из этого многообразия понадобится только свойство Lens, которое как раз-таки хранит количество элементов, под которые выделена память. То есть Lens в данном случае будет равен 10. Можно пользоваться как этим свойством, так же можно пользоваться и переменной. Друзья, давайте сделаем небольшую паузу, отдохнем от решения задач и рассмотрим два подхода к изучению программирования. Основная идея первого подхода заключается в постепенном повышении сложности решаемой задачи. Друзья, наше знакомство с языком C sharp мы начали с таких тематик, как переменные, типы данных, арифметика и затем перешли к условным и циклическим конструкциям. Друзья, рекомендую начинать знакомство с программированием, с решением базовых и простых задач. Например, навешивать их некоторое количество, 5, 10, 15 штук и переходить к более сложным. Более сложные задачи очень часто являются комбинацией из набора простых задач. Друзья, не рекомендую сразу браться за сложные и комбинированные задачи, особенно если у вас возникают сложности на базовых задачах. Рассмотренный подход носит название от простого к сложному. Второй подход заключается в том, что количество решенных вами простых и базовых задач будет постепенно переходить в качество. То есть вы будете формировать свое алгоритмическое мышление, которое позволит вам решать более сложные задачи и строить более сложные алгоритмы. Таким образом, вы сможете опираться на некоторый фундамент из множества решенных вами базовых и простых задач. Двигаемся далее и давайте рассмотрим типовую задачу на поиск элементов в массиве, которые удовлетворяют некоторым условиям. Пусть у нас имеется массив на некоторое количество целых чисел, допустим на 10 штук. Требуется найти в нем четные числа и вывести их на экран. Друзья, напомню, что число является четным, если оно делится нацело на 2. Примеры четных чисел это 0, 2, 4, 6 и так далее. Давайте для этой задачи перечислим основные этапы, сформируем ее блок-схему и реализуем эту схему на языке C sharp. Итак, в этой задачи можно выделить следующие этапы. Первая, создать и заполнить массив на 10 целых чисел. Вторым этапом можно выделить проход по элементам, то есть просмотр каждого элемента. Третий этап это проверка элемента на условия того, является ли он четным. Ну и четвертый этап, друзья, это вывести этот элемент на экран, если указанное условие выполняется. Перейдем к блок-схеме. Обращу ваше внимание, друзья, что цикл прохода по элементам массива мы можем целиком взять из предыдущей задачи. Этот цикл будет одинаковым для всех задач, где требуется перебрать или же просмотреть элементы. Массив мы заполним с клавиатуры сразу же при его создании. Я обращу ваше внимание, что цикл в этом случае можно не использовать, поскольку число элементов заранее известно, напомню, их 10 штук и оно невелико. Далее цикл прохода по элементам массива нам необходимо добавить проверку очередного элемента на четность. Если же этого мы не будем делать, то на экран будут выведены все элементы, включая нечетные. Обратите внимание, условие разместил в блоке решения и написал там array с индексом i из even, что переводится как четный ли элемент с индексом i. Друзья, такая формулировка условия вполне подходит в использовании блок-схемы. Однако, при переносе блок-схемы на конкретный язык программирования могут возникнуть существенные сложности. Дело в том, что языкам программирования непонятно такая формулировка условия, которая вполне понятна человеку и допускается в использовании блок-схемы. Попытка перенести такое условие в язык программирования приведет к синтаксической ошибке. Друзья, к счастью, у этой проблемы есть решение и заключается оно в использовании операторов сравнения и арифметических операторов при построении условий. Эти операторы языки программирования вполне хорошо воспринимают. В данной задаче нам поможет оператор вычисления остатка отделения. Во многих современных языках программирования он обозначается либо с помощью значка процент, либо с помощью ключевого слова mod, что от английского в переводе с модула означает деление по модулю. И для проверки на равенство мы будем использовать двойной знак равно. И, друзья, напомню, что одинарный значок равно обозначает другую операцию. Итак, скорректируем наше условие и применим арифметический оператор остаток отделения и проверки на равенство. Есть остаток отделения. На два равен нулю. Это мы пишем в блоке решения. Он у меня подсвечен оранжевым цветом. То это значит, что очередной элемент массива делится на два нацело. То есть он четный и мы его будем выводить на экран ниже, друзья, с помощью блока вот вывод, который обозначается в виде параллограмма. В нем мы напишем то, что вывести очередной элемент массива array с индексом i. Итак, блок схемы нашего алгоритма готова. Давайте посмотрим, как он будет выглядеть на языке C-sharp. Перейдем в каталог задания 3 и создадим там проект. Перейдем в файл с исходным кодом. Удалим сгенерированный по умолчанию. Согласно нашей блок схеме создадим целочисленную переменную n равную 10 и массив на 10 целых чисел. Друзья, предлагаю использовать упрощенный синтакс создания массива, поскольку число элементов заранее известно и оно невелико. Создадим массив из 10 произвольных целых чисел, четных, а также добавим нечетные. Не забываем про форматирование кода. Создадим переменную счетчик i изначально равную нулю и оформим цикл while с условием счетчик строго меньше, чем количество элементов n. На каждой итерации будем проверять четность очередного элемента с помощью условной конструкции if. Обратимся к конкретному элементу по индексу i, разделим его с остатком на 2 и проверим, равен ли этот остаток нулю. Если это так, то значит, что элемент четный и нам нужно вывести его на экран. Давайте это сделаем с помощью метода write. Друзья, предлагаю использовать метод вывода переменной сразу же в строке. Напомню, используем символ доллара и затем в строке в фигурных кусочках пишем элемент, который хотим вывести на экран. В данном случае это просто очередной элемент массива и добавим пробел, чтобы элементы не слетались. Давайте запустим наш код. Друзья, на экране мы видим, что алгоритм у нас зациклился и значение первого элемента, да, 2, выводится в бесконечном цикле. Как вы думаете, почему так вышло? Я остановлю вывод комбинации клавиши CTRL-C. Друзья, все дело в том, что мы с вами забыли увеличить значение переменной i, да, то есть перейти к следующему элементу массива. Без этого мы будем обрабатывать каждый раз первый элемент массива и проверять его. То, что мы видим, то есть проверили, вывели, проверили, вывели и если не переходить к следующему элементу, то мы запилим наш цикл. Итак, сохраним изменения и запустим еще раз. На экране мы видим четные числа, которые являются элементами этого массива. Друзья, рекомендую проверить правильность работы этого алгоритма на различных входных данных. Например, массив можно задать целиком из четных чисел, да, из нечетных, ну или как в нашем случае из комбинации как четных, так и нечетных. Таким образом мы проверим работоспособность алгоритма на различных входных условиях. Итак, мы с вами решили две типовые задачи на работу с массивами. Вспомнили, как в C-sharp обозначаются циклические конструкции условные, а также поработали с арифметикой и вводом-выводом. Друзья, давайте вспомним задачу из лекции введения в программирование, которая была связана с вычислением веса наиболее тяжелой гири. Напомню вам, как выглядит блок схемы для поиска наиболее тяжелой гири из 5 штук. Друзья, мы поочередно, как можете видеть, делаем 4 сравнения в блоках решения, да, и при необходимости, если эти сравнения дают нам ответ да, то по ветке yes мы обновляем значение переменной max в соответствующих блоках процесс. После проведения всех сравнений в переменной max у нас будет находиться значение наиболее тяжелой гири. На предыдущей лекции мы с вами запрограммировали алгоритм для поиска наибольшего из 5 целых чисел. Мы с вами создали 5 целочисленных переменных и разместили в них некоторые произвольные числа. Далее мы с вами сделали 4 сравнения с помощью оператора if и за счет этого мы нашли вес наиболее тяжелой гири, после чего в конце алгоритма мы вывели значение переменная max на экран. Друзья, но как изменится этот алгоритм, если число гирь, да, или же чисел будет увеличено? Предположим, что нам необходимо найти самую тяжелую гирю из количества 10 штук. Если оставить логику решения без изменений, то код может выглядеть примерно следующим образом. Обратите внимание, друзья, на количество переменных. Их здесь 10 штук и количество сравнений. Да, в целом задача решена, но код стал достаточно сормовским и содержит большое количество повторяющихся инструкций. Давайте еще немного изменим условия нашей задачи и увеличим количество гирь, скажем, до 100 штук. Как можно видеть из фрагмента исходного кода, букв латинского алфавита для именования переменных мне не хватило, я начал использовать переменные из двух букв. Также можно давать имена следующие, да, giri1, giri2 и так далее, но нужно использовать соответствующие английские слова, да, то есть weight1, weight2 и так далее. Друзья, если использовать эту же, да, логику решения задачи, то для создания переменных у нас уйдет порядка 100 строк исходного кода, да, и нам нужно будет запрограммировать порядка 100 практически одинаковых инструкций сравнения с использованием оператора if. Друзья, согласитесь, что для решения подобной задачи нам потребуется несколько иной подход, и одним из таких подходов мы можем рассмотреть использование массива для хранения весов, представленных giri. Сформулируем задачу в более общем виде. Дано n giri, где n некоторое натуральное число и требуется найти наиболее тяжелую giri. Вспомним алгоритм поиска, который был приведен в курсе ведения в программировании, основанный на хранении весов giri в массиве и использование цикла. Друзья, обратите внимание, что в этом алгоритме также используется переменная max и проводится n сравнений для определения giri наибольшего веса. Отличие этого алгоритма заключается в том, что в нем переменные хранятся не россыпью, да, как в приведенных ранее алгоритмах, а в упорядоченном контейнере, да, в массиве. А также, друзья, операция сравнения весов giri не повторяется в коде много раз, да, а участвует один раз и расположена в цикле. Отмечу, что этот алгоритм может быть применен для произвольного количества giri, да, как для пяти, для сотни, так и для тысячи штук. Итак, перейдем в каталог для четвертого задания. Также создадим там новый проект. Давайте возьмем количество giri, равное, допустим, пять штук. Создадим целочисленный массив из пяти весов giri. Друзья, поскольку у нас количество весов небольшое, да, заранее известное, мы можем воспользоваться упрощенным синтаксисом создания массива. Создадим массив из набора произвольных различных чисел. Не забываем форматировать код. Далее создадим цикл while, который у нас пройдет по элементам массива. И перед этим мы создадим переменную счетчик, которую будем использовать для условия цикла, а и меньше, чем количество элементов. Также мы эту переменную будем использовать при обращении к самим элементам. Друзья, для проверки, да, не превышает ли очередной элемент массива значение переменной max, мы напишем условия array с индексом i больше, чем переменная max. Ну и, конечно же, не забываем предварительно эту переменную создать. И проинциализируем ее первым элементом массива, то есть элементом с индексом 0. Если это если очередной элемент у нас превысил текущее значение максимума, то мы обновим переменную max, поместив в нее текущий элемент массива. Обращаю внимание, друзья, что в случае не выполнения до этого действия, этого условия, если оно неверно, то никакого отдельного действия для ветки lz не предусмотрено. Мы ее пропускаем. Не забываем перейти к следующему элементу массива, увеличив значение счетчика на единицу. И после завершения цикла выведем значение переменной max на экран, чтобы проверить правильность работы алгоритма. Сохраним изменения в исходном коде. Запустим наш код командой .NET Run. Ожидаем увидеть ответ 9, что соответствует наибольшему значению в этом массиве. Наши ожидания совпадают с выводом. Это говорит о том, что алгоритм работает правильно, друзья, для указанного набора данных. Друзья, также как и в предыдущей задаче, не забываем проверить правильность работы нашего алгоритма на различных входных данных. Применительно к этой задаче я бы рекомендовал проверить ее работоспособность на массиве, когда у нас наибольшее число находится в конце массива, в начале или же где-то посередине. Также лишним не будет проверить работу алгоритма, когда массив отсортирован по возрастанию или же наоборот по убыванию. Таким образом, вы проверите правильность его работы на различных начальных условиях. До настоящего момента мы с вами работали только с одной разновидностью циклов. Это ВАЛ. Давайте посмотрим, а какие еще способы создания циклической конструкции присутствуют в языке C-sharp. Друзья, на экране представлены блок схемы с использованием блока «Счетный цикл». Наверняка некоторые из вас при решении задач в курсе знакомства с программированием использовали этот блок. Большинство современных языков программирования поддерживают синтаксис описания счетных циклов. Давайте посмотрим, как это выглядит в C-sharp. Итак, для создания счетного цикла используется ключевое слово for. Но в отличие от цикла VAL, где в кругу окопах мы указываем только условия в цикле for, обратите внимание, также указывается создание переменной счетчика, в этом случае i равное нулю, и изменение этой переменной, то есть ее модификация i равно i плюс один. Друзья, давайте рассмотрим составные части цикла for более подробно. Первый блок – это блок инициализации, то есть создание переменной счетчика и присвоение ей некоторого начального значения. В качестве имен переменных обычно используется i j k. Это стандартный подход при создании переменных счетчиков, будь то в цикле for, будь то в цикле VAL. Второй блок – это условия. Напомню, под условием мы понимаем выражение логического типа, на основании которого мы можем сказать верно оно или же нет. В данном случае, друзья, как и в цикле VAL, на основании условия принимается решение, будет ли выполняться очередная итерация или же цикл закончится. Также отмечу то, что в условиях часто применяются операторы арифметики и операторы сравнения. Третья часть цикла – это модификация, то есть изменение переменной счетчика. Переменная счетчика, как в этом примере, может расти с шагом на один, может расти с большим шагом два, три, четыре, может умножаться, а также может уменьшаться, то есть будет конструкция i равно i минус один. Ну и само собой тело цикла, которое располагается в фигурных скобках, то есть набор инструкций, которые будут выполняться на каждой его итерации. Друзья, для правильного применения цикла FOR крайне важно знать механизм или же алгоритм его работы. Давайте посмотрим, как работает цикл в приведенной примере. Итак, первым шагом выполняется блок инициализации. В данном случае переменной i присваивается значение 0. Вторым шагом, друзья, происходит проверка условия, то есть мы проверяем, меньше ли переменная i, чем число 10. Если это верно, то мы выполняем тело цикла, то есть те инструкции, которые заключены в фигурных скобках. Соответственно, после выполнения тела цикла происходит модификация, то есть то, что мы пишем с вами в теле цикла while, в этом случае i равно i плюс 1. Ну и пятый пункт — это возврат к пункту 2, то есть к проверке условий. То есть мы снова проверяем условия, если оно верно, мы выполняем тело цикла, если оно неверно, мы цикл завершаем. Друзья, обращу ваше внимание, что точно таким же образом цикл FOR устроен в языках программирования C, C++, Java и PHP. Итак, на текущий момент мы знаем, что в C sharp используются две разновидности циклов, FOR и while. Но как понять, какой из них применить к каждой конкретной задаче? Давайте, друзья, сформулируем некоторые рекомендации и обращу внимание, что эти рекомендации не являются строгими правилами, но придерживаться их стоит. Цикл FOR мы часто используем, когда требуется перебрать элементы массива. Вывод на экран, как в этом примере, или же подсчет суммы, подсчет среднего арифметического, или, допустим, поиск элементов по каким-либо критериям. Также цикл FOR может быть применен, когда верхняя граница числа итераций фиксирована и известна до запуска программы. В данном примере суммируется числа от 1 до 100, и мы уверены, что число итераций здесь не превысит 100. В случаях, когда нельзя заранее предсказать число итераций, или же когда нам неизвестно верхняя их граница, то можем применять цикл FOR. Давайте рассмотрим классический пример применения этого цикла при чтении файла по сильно. Пусть у нас имеется некоторый файл, который состоит из 27 символов. В зависимости от его кодировки, будь то ANSI, будь то UTF-8 или же Unicode, один символ может занимать 1, 2, 3 или даже 4 байта. Как вы можете видеть из строки состояния, которая указывается в нижней части блокнота, этот файл имеет кодировку UTF-8. То есть один такой символ может иметь размер как 1, 2, так и 3 или 4 байта. Это зависит от того, является ли символ буквицы цифровой или же представляет собой некоторую иконку или же эмодзи. Обратите внимание, что размер этого файла равен 60 байтов, и зависимость от количества символов в нем не очевидна. То есть нельзя сказать, что один символ занимает 1 байт или один символ занимает 2 байта, поскольку символов, я напомню, здесь 27. Поэтому, друзья, даже если мы знаем размер этого файла в байтах, мы заранее не можем предсказать, а сколько там будет храниться символов. Соответственно, мы не знаем, насколько итерацией нам запускать цикл for. Как раз таки здесь нам может быть полезен цикл while. В его условии можем написать ключевое слово true, что будет означать цикл бесконечный. В его действиях мы напишем чтение очередного символа из файла и вторым действием вывод этого символа на экран. Остановить этот цикл можно будет при достижении конца файла. Друзья, давайте рассмотрим третий способ организации цикла в C-sharp. Это цикл for which. Для его создания мы используем ключевое слово for which. Далее в кругу скобках мы создаем переменную цикла с указанием ее типа данных. В данном случае это целочисленный тип данных и имени. В этом примере имя у нее E. Друзья, важный момент. Тип данных у этой переменной должен совпадать с типом данных у элементов массива. Затем мы указываем ключевое слово in от английского в и указываем сам массив, элементы которого нам требуется перебрать. Работает цикл следующим образом. На каждой итерации в переменную цикла в данном примере эта переменная E помещается, а если быть точнее копируется очередной элемент массива. То есть на первой итерации в переменную E попадает единица, на второй итерации двойка и так далее, пока все элементы массива не будут перебраны. Этот цикл работает практически так же, как и цикл for, только в нем не используются индексы. Отмечу, что пара циклов for и while имеют принципиальные отличия от цикла for each в плане обращения к его элементам, а также возможности изменять эти элементы. Так вот ключевое отличие заключается в том, что элементы в цикле for each они доступны только на чтение, то есть нет возможности их изменять. Достигается это за счет того, что элементы массива каждый раз копируются, именно подчеркиваю копируются в переменную циклу. Например, с помощью цикла for each мы можем вывести элементы на экран, как представлено в этом примере, посчитать их сумму или, например, среднее ритмическое. Кроме того, for each нам предоставляет возможность осуществить поиск каких-либо элементов. Друзья, важный момент, что попытка изменить содержимое элемента массива с помощью цикла for each, как здесь представлено в примере, приведет к ошибке. И большинство средств разработки, не исключение здесь является и visual studio code, подчеркнут еще до этапа компиляции красным и как бы просигнализирует о том, что эта конструкция приведет к ошибке. Для лучшего понимания работы цикла for each давайте рассмотрим пример из реальной жизни. Приведем набор коробок с некоторым содержимым и будем считать этот набор массивом. Так вот, друзья, цикл for each позволяет нам заглянуть, проверить содержимое каждой коробки, то есть узнать характеристики этого содержимого, допустим, там вес, размер и так далее. Однако цикл for each не позволяет нам изменять содержимое коробок, удалять что-либо оттуда или добавлять новые предметы. Для подобных манипуляций нам необходимо использовать циклы for или же while, которые позволяют изменять содержимые элементов. Итак, давайте применим циклы for и for each к нашей задаче с гирями. Вернем переменную, которая хранит максимальное значение элементов массива в изначальное состояние, то есть присвоим ей значение первого элемента массива и давайте запустим цикл for. Напомню, первым шагом мы создаем переменную счетчик. Друзья, переменная счетчик i у нас уже задействована, поэтому давайте использовать другую, пускай это будет переменная счетчик j. Она равна нулю. Далее укажем условия цикла, оно такое же будет, как и в цикле while, j меньше, чем число элементов n. И, друзья, укажем изменение или же модификацию переменной счетчика. Друзья, обратите внимание, что я использую оператор increment. Возможно, вы им уже пользовались, он работает так же, как и конструкция j равно j плюс 1, только имеет более сокращенный вид. Предлагаю им пользоваться. Далее, как и в цикле while, оформляем тело в фигурных скобках. Тело можно скопировать целиком, поскольку у нас идет работа с индексами и тело никак не изменится. Единственное, что скорректируем имя переменной счетчика. Друзья, и, конечно же, обратите внимание, что здесь нам не нужно дублировать модификацию счетчика, поскольку ее изменение заложено уже в самом цикле for. То есть, эту строчку мы обязательно удаляем. Итак, проверим работоспособность нашего цикла for. Для этого выведем значение переменной максимум на экран. Перейдем в каталог с задачей 4 и запустим там наш проект. На экране ожидаем увидеть дважды, да, 9 и 9. Ожидания совпадают с выводом. Также оформим решение с помощью цикла forage. Еще раз вернем значение переменной максимум в начальное состояние и запустим цикл forage. Напомню, он состоит из переменной цикла с типом данных точно таким же, как и тип данных у элемента массива. В данном случае это целое число. Затем идет имя переменной, ключевое слово in и сам массив. Друзья, обращение по индексу в этом цикле уже не используется. Тело цикла мы можем скопировать, но необходимо сделать соответствующие замены. То есть, таким образом обратиться к элементу массива мы не сможем, поскольку у нас здесь работа с индексами отсутствует. Мы с вами должны пользоваться переменной цикла. В данном случае это E. Укажем переменную E. Логика работы никак не меняется. Меняется способ обращения к элементу массива. Итак, выведем результат работы цикла на экран. Запустим наш код. Ожидаем увидеть также величину 9. Да, наши ожидания соответствуют выводу. Друзья, на этом практическая часть лекции заканчивается. И в заключение давайте обсудим насколько нам нужен технический английский при разработке программ. При разработке программ обеспечения специалист зачастую сталкивается с терминологией на английском языке. Мы с вами в процессе решения задач, построения алгоритмов, блок схем часто сталкивались с терминологией на английском. Это были имена переменных, функции, а также сообщения об ошибках. Давайте резюмируем основные моменты, где знание английского будет для нас хорошим подспорьем. Первый аспект применения языка это именование объектов. Для лучшего восприятия исходного кода мы стараемся давать переменным, функциям и другим объектам, а осмысленные имена, разумеется, на английском языке. В примере приведены три имени переменных с достаточно популярными названиями. Это цифра, от английского digit, количество, amount и среднее average. Давайте залежи немного вперед и рассмотрим несколько примеров именований функций. Отмечу, что зачастую имена функций состоят из нескольких слов, одно из которых является глагол. Первая функция осуществляет чтение файла по некоторому пути, вторая пишет журнал сообщения и третья сканирует директорию на предмет наличия интересующих файлов. Друзья, о функциях мы будем говорить подробнее на следующей лекции. Чтобы вести разработку программного обеспечения быстро и не обращаться к переводчику за именованием для каждой переменной, требуется пополнять свой словарный запас английскими техническими терминами. Следующий аспект, где английский может существенно нас выручить, это чтение ошибок. Будь то от редактора Visual Studio Code, будь то сообщения об ошибках от компилятора или же как в этом примере, да, от среды выполнения. Дело в том, что даже в русифицированных средах разработки сообщения об ошибках могут появляться на английском языке, связано-то с тем, что далеко не все строки, не все сообщения имеют перевод на русский. Соответственно, знание английского языка поможет вам оперативно читать сообщения об ошибках, улавливать их суть и не прибегать к помощи переводчика. Здесь я уже не говорю о том, что большое число инструментов для разработки, в принципе, да, не имеют локализации на русском языке. Третий аспект применения английского – это поиск путей, да, способов решения возникающих проблем при разработке программного обеспечения. Давайте рассмотрим пример поиска информации о совместимости некоторого программного средства OpenSSL с операционной системой Windows 7. Друзья, подскажу, OpenSSL – это достаточно распространенный продукт, одно из направлений, в использовании которого – шифрование данных. Кому знакомые термины шифрования, криптография – можете написать об этом в чат. Так вот, обратите внимание, что попытка сформировать запрос на русском языке, да, к явному ответу не приводит. Среди первых результатов в списке упоминания о средство OpenSSL отсутствует совсем, да, я уже не говорю о том, насколько это средство совместимо с операционной системой Windows 7. Давайте рассмотрим результат поисковой выдачи, но при формировании запроса на английском языке. Как можете видеть, уже в первой ссылке находится наш вопрос о совместимости программных средств. Друзья, можете поверить мне на слово, что подобные ситуации встречаются достаточно часто. И на русскоязычных, да, будь то в формах, порталах, да, иных ресурсах подходящая техническая информация может попросту отсутствовать, да, или же иметь неудовлетворительное качество. Ну и четвертый аспект применения английского, который я вынес на рассмотрение – это изучение технической документации. Документация у большинства инструментов разработки программного обеспечения изначально пишется на английском языке, и не всегда получается найти качественный перевод на русский. Да, здесь можно пользоваться переводчиками, да, в том числе автоматизированным переводом, но, друзья, часто случается, что при автоматизированном переводе некоторые технические термины теряют свой смысл, да, или он искажается, и зачастую приходится обращаться к первоисточнику. Итак, друзья, мы с вами рассмотрели несколько важных аспектов применения технического английского языка, но здесь может возникнуть вопрос, а с чего, собственно, начать изучение, особенно если ранее такого опыта у вас не было. Друзья, позвольте мне дать небольшую рекомендацию, выполнить которую большого труда не составит, но пользу от нее вы сможете получить достаточно быстро. Рекомендация эта достаточно нехитрая, да, и заключается она в ведении словаря или тетради с техническими терминами. То есть, если в процессе разработки, да, вам встречается тот или иной термин, будь то там от компилятора, будь то среды разработки, будь то от сообщений среды выполнения, вы этот термин отмечаете себе в тетрадь или в ваш конспект и снабжаете его переводом. Такой словарь, да, или тетрадь может получиться достаточно большим, поэтому чтобы эти термины откладывались в долговечную новую память, да, и вы их со временем запоминали, рекомендую этот конспект время от времени перечитывать. Таким образом, количество незнакомых терминов или же сообщений об ошибках, будь то в редакторе Visual Studio Code или же от платформы .NET или же от среды исполнения, будет сокращаться. Это вам позволит улавливать основной смысл сообщений об ошибках, давать именам и функциям более качественные названия, а также оперативно искать причины проблем в вашем коде. Ну что, друзья, на этом лекция о массивах подошла к концу, давайте подведем ее основные итоги. Итак, в начале занятия мы с вами рассмотрели базовые определения, касающиеся массивов, рассмотрели их основные характеристики. После вводного экскурса мы с вами решили блок задач на базовую обработку массива, будь то создание, вывод на экран, заполнение, а также поиск элементов. Далее мы рассмотрели две разновидности циклов, for и for each, а также обсудили особенности их применения на конкретных задачах. И в заключении, друзья, мы поговорили о важности изучения технического английского и пользы, которую от этого вы можете получить. На этом, друзья, я с вами прощаюсь. Благодарю вас за внимание, увидимся на следующей лекции и на семинарах.'"
      ]
     },
     "execution_count": 22,
     "metadata": {},
     "output_type": "execute_result"
    }
   ],
   "source": [
    "redacted"
   ]
  },
  {
   "cell_type": "markdown",
   "id": "c9b25227-3cfc-4444-bcf8-54c9e7f3d5e3",
   "metadata": {},
   "source": [
    "## Получаем заголовок, структуру и вывод урока"
   ]
  },
  {
   "cell_type": "code",
   "execution_count": 26,
   "id": "d0a99cd9-346d-4eb7-9e47-94928f8fbb91",
   "metadata": {
    "execution": {
     "iopub.execute_input": "2023-11-24T14:09:48.070704Z",
     "iopub.status.busy": "2023-11-24T14:09:48.069991Z",
     "iopub.status.idle": "2023-11-24T14:10:16.967537Z",
     "shell.execute_reply": "2023-11-24T14:10:16.966169Z",
     "shell.execute_reply.started": "2023-11-24T14:09:48.070663Z"
    }
   },
   "outputs": [
    {
     "data": {
      "application/vnd.jupyter.widget-view+json": {
       "model_id": "694c503fb2b24c14ab3cbf57bfdfea66",
       "version_major": 2,
       "version_minor": 0
      },
      "text/plain": [
       "tokenizer_config.json:   0%|          | 0.00/279 [00:00<?, ?B/s]"
      ]
     },
     "metadata": {},
     "output_type": "display_data"
    },
    {
     "data": {
      "application/vnd.jupyter.widget-view+json": {
       "model_id": "ba16c44e51364ab3a08d9ff981de623d",
       "version_major": 2,
       "version_minor": 0
      },
      "text/plain": [
       "spiece.model:   0%|          | 0.00/828k [00:00<?, ?B/s]"
      ]
     },
     "metadata": {},
     "output_type": "display_data"
    },
    {
     "data": {
      "application/vnd.jupyter.widget-view+json": {
       "model_id": "82760eaa61d940f5a69422f2928c4d36",
       "version_major": 2,
       "version_minor": 0
      },
      "text/plain": [
       "tokenizer.json:   0%|          | 0.00/1.31M [00:00<?, ?B/s]"
      ]
     },
     "metadata": {},
     "output_type": "display_data"
    },
    {
     "data": {
      "application/vnd.jupyter.widget-view+json": {
       "model_id": "000e5a9d2788467da4952321ca7ed0b4",
       "version_major": 2,
       "version_minor": 0
      },
      "text/plain": [
       "special_tokens_map.json:   0%|          | 0.00/65.0 [00:00<?, ?B/s]"
      ]
     },
     "metadata": {},
     "output_type": "display_data"
    },
    {
     "data": {
      "application/vnd.jupyter.widget-view+json": {
       "model_id": "bc117b2e1e114db081b0354c2644eeb3",
       "version_major": 2,
       "version_minor": 0
      },
      "text/plain": [
       "config.json:   0%|          | 0.00/766 [00:00<?, ?B/s]"
      ]
     },
     "metadata": {},
     "output_type": "display_data"
    },
    {
     "data": {
      "application/vnd.jupyter.widget-view+json": {
       "model_id": "fef2308697444ade9ae1d2921f263c76",
       "version_major": 2,
       "version_minor": 0
      },
      "text/plain": [
       "pytorch_model.bin:   0%|          | 0.00/977M [00:00<?, ?B/s]"
      ]
     },
     "metadata": {},
     "output_type": "display_data"
    }
   ],
   "source": [
    "from transformers import AutoTokenizer, T5ForConditionalGeneration\n",
    "\n",
    "model_name = \"IlyaGusev/rut5_base_sum_gazeta\"\n",
    "tokenizer = AutoTokenizer.from_pretrained(model_name)\n",
    "model = T5ForConditionalGeneration.from_pretrained(model_name)"
   ]
  },
  {
   "cell_type": "code",
   "execution_count": 33,
   "id": "460a6e96-7345-4955-ba8e-142633507b5a",
   "metadata": {
    "execution": {
     "iopub.execute_input": "2023-11-24T15:23:12.873971Z",
     "iopub.status.busy": "2023-11-24T15:23:12.872872Z",
     "iopub.status.idle": "2023-11-24T15:23:12.892959Z",
     "shell.execute_reply": "2023-11-24T15:23:12.891783Z",
     "shell.execute_reply.started": "2023-11-24T15:23:12.873936Z"
    },
    "tags": []
   },
   "outputs": [],
   "source": [
    "path_txt_name = '/home/jupyter/datasphere/project/res/medium/transcription6.txt'\n",
    "text_file = open(path_txt_name, \"r\")\n",
    "article_text =  text_file.read()"
   ]
  },
  {
   "cell_type": "code",
   "execution_count": 34,
   "id": "7da51fa7-c4dd-4151-9ef6-52888795cba4",
   "metadata": {
    "execution": {
     "iopub.execute_input": "2023-11-24T15:23:14.930880Z",
     "iopub.status.busy": "2023-11-24T15:23:14.929867Z",
     "iopub.status.idle": "2023-11-24T15:23:59.181274Z",
     "shell.execute_reply": "2023-11-24T15:23:59.180197Z",
     "shell.execute_reply.started": "2023-11-24T15:23:14.930844Z"
    },
    "tags": []
   },
   "outputs": [
    {
     "name": "stdout",
     "output_type": "stream",
     "text": [
      "На этом уроке мы рассказали о том, как работать с интерпретатором в интерактивном режиме и как запустить исходный код с помощью интерпретатора, а также о возможностях для тестирования и обработки данных.\n"
     ]
    }
   ],
   "source": [
    "#заголовок лекции\n",
    "input_ids = tokenizer(\n",
    "    [article_text],\n",
    "    add_special_tokens=True,\n",
    "    padding=\"max_length\",\n",
    "    truncation=True,\n",
    "    max_length=4000,\n",
    "    return_tensors=\"pt\"\n",
    ")[\"input_ids\"]\n",
    "\n",
    "output_ids = model.generate(\n",
    "    input_ids=input_ids,\n",
    "    no_repeat_ngram_size=3,\n",
    "    num_beams=5,\n",
    "    early_stopping=True\n",
    ")[0]\n",
    "\n",
    "summary = tokenizer.decode(output_ids, skip_special_tokens=True)\n",
    "print(summary)"
   ]
  },
  {
   "cell_type": "code",
   "execution_count": 35,
   "id": "e20619b1-e356-4714-85a9-68b130b7e563",
   "metadata": {
    "execution": {
     "iopub.execute_input": "2023-11-24T15:23:59.183883Z",
     "iopub.status.busy": "2023-11-24T15:23:59.183109Z",
     "iopub.status.idle": "2023-11-24T15:23:59.196926Z",
     "shell.execute_reply": "2023-11-24T15:23:59.195857Z",
     "shell.execute_reply.started": "2023-11-24T15:23:59.183833Z"
    },
    "tags": []
   },
   "outputs": [],
   "source": [
    "def chunks(lst, n):\n",
    "    for i in range(0, len(lst), n):\n",
    "        yield lst[i:i + n]"
   ]
  },
  {
   "cell_type": "code",
   "execution_count": 36,
   "id": "94d9e23d-e48c-4067-bfd8-2eec25c93c80",
   "metadata": {
    "execution": {
     "iopub.execute_input": "2023-11-24T15:23:59.199509Z",
     "iopub.status.busy": "2023-11-24T15:23:59.198682Z",
     "iopub.status.idle": "2023-11-24T15:34:33.683539Z",
     "shell.execute_reply": "2023-11-24T15:34:33.682461Z",
     "shell.execute_reply.started": "2023-11-24T15:23:59.199468Z"
    },
    "tags": []
   },
   "outputs": [
    {
     "name": "stdout",
     "output_type": "stream",
     "text": [
      "Язык программирования Python — один из самых простых и понятных синтаксисов относительно других языков программирования, а также популярный для разработчиков и энтузиастов. Это означает, что для него существует множество готовых библиотек, которые решают реальные задачи.\n",
      "Если говорить о языке Python, то это уже не первый язык, который применяется во многих властях, а также многие другие области применения, например, веб-разработка, машинное обучение и искусственный интеллект. Однако, как и любой код, код на этом языке можно делать быстро и удобно.\n",
      "На этом уроке мы узнаем о интерпретаторе Python, о его интерактивном режиме и IDE по HRM, об IDE и получении данных со стандартного ввода.\n",
      "В сегодняшнем обзоре курсов всех по языкам программирования мы расскажем о том, как запустить исходный код Python с помощью интерпретатора. Это абсолютно аналогично тому, что мы делали в интерактивной среде.\n",
      "Интерактивность среда разработки IDE.PageArm может быть полезна для промышленной разработки, а также для разработки в текстовом файле.\n",
      "В сегодняшнем обзоре новых проектов мы расскажем о базовых вещах в языке Python. И теперь мы попробуем запустить эту программу.\n",
      "Язык Python является динамически типизирован. Это значит, что в любую переменную с именем var записать значение литерала 123, а потом туда же положить строку ABC.\n",
      "В сегодняшнем обзоре мы расскажем о том, как вводить данные пользователя с клавиатуры, а также как ввести их с командной строки. Для этого мы выделили кусок кода, который стал серым.\n",
      "На этой неделе мы запустили программу Python интерпретатор в интерактивном режиме. Это уже не первый раз, когда мы запускали программу в терминале.\n",
      "На этом уроке мы познакомились с интерпретатором Python, узнали как работать с ним в интерактивном режиме, а также узнали, как выводить данные в консоль, считывать данные со стандартного ввода.\n"
     ]
    }
   ],
   "source": [
    "# структура лекции\n",
    "# для более хорошей работы требуется дообучение на размеченных данных\n",
    "n = 10\n",
    "l_text = [ i for i in chunks(article_text, -1*len(article_text)// n // 1 * -1)]\n",
    "all_summary = ''\n",
    "for text in l_text:\n",
    "    input_ids = tokenizer(\n",
    "        [text],\n",
    "        add_special_tokens=True,\n",
    "        padding=\"max_length\",\n",
    "        truncation=True,\n",
    "        max_length=5000,\n",
    "        return_tensors=\"pt\"\n",
    "    )[\"input_ids\"]\n",
    "\n",
    "    output_ids = model.generate(\n",
    "        input_ids=input_ids,\n",
    "        no_repeat_ngram_size=3,\n",
    "        num_beams=5,\n",
    "        early_stopping=True\n",
    "    )[0]\n",
    "\n",
    "    summary = tokenizer.decode(output_ids, skip_special_tokens=True)\n",
    "    all_summary = all_summary + ' ' + summary\n",
    "    print(summary)"
   ]
  },
  {
   "cell_type": "code",
   "execution_count": 37,
   "id": "388dfd5b-70a9-4ba6-8f0e-d1c9e4c8a0a4",
   "metadata": {
    "execution": {
     "iopub.execute_input": "2023-11-24T15:34:33.686414Z",
     "iopub.status.busy": "2023-11-24T15:34:33.685520Z",
     "iopub.status.idle": "2023-11-24T15:35:44.950104Z",
     "shell.execute_reply": "2023-11-24T15:35:44.949044Z",
     "shell.execute_reply.started": "2023-11-24T15:34:33.686364Z"
    },
    "tags": []
   },
   "outputs": [
    {
     "name": "stdout",
     "output_type": "stream",
     "text": [
      "В сегодняшнем обзоре курсов всех по языкам программирования мы расскажем о том, как запустить исходный код на этом языке, а также о его интерактивном режиме и получении данных со стандартного ввода.\n"
     ]
    }
   ],
   "source": [
    "#вывод лекции\n",
    "# для более хорошей работы требуется дообучение на размеченных данных, на данный момент модель не всегда понимает контекст\n",
    "input_ids = tokenizer(\n",
    "    [all_summary],\n",
    "    add_special_tokens=True,\n",
    "    padding=\"max_length\",\n",
    "    truncation=True,\n",
    "    max_length=5000,\n",
    "    return_tensors=\"pt\"\n",
    ")[\"input_ids\"]\n",
    "\n",
    "output_ids = model.generate(\n",
    "    input_ids=input_ids,\n",
    "    no_repeat_ngram_size=3,\n",
    "    num_beams=5,\n",
    "    early_stopping=True\n",
    ")[0]\n",
    "\n",
    "summary = tokenizer.decode(output_ids, skip_special_tokens=True)\n",
    "print(summary)"
   ]
  },
  {
   "cell_type": "markdown",
   "id": "dc88454f-ebfb-4f13-b4e3-8ca6bed4275e",
   "metadata": {},
   "source": [
    "## Получение потенциальных определений"
   ]
  },
  {
   "cell_type": "code",
   "execution_count": 1,
   "id": "e5367eb8-4002-4fba-aa59-cf060c127d94",
   "metadata": {
    "execution": {
     "iopub.execute_input": "2023-11-24T19:25:23.272015Z",
     "iopub.status.busy": "2023-11-24T19:25:23.271309Z",
     "iopub.status.idle": "2023-11-24T19:26:03.526120Z",
     "shell.execute_reply": "2023-11-24T19:26:03.525210Z",
     "shell.execute_reply.started": "2023-11-24T19:25:23.271978Z"
    }
   },
   "outputs": [
    {
     "name": "stdout",
     "output_type": "stream",
     "text": [
      "Defaulting to user installation because normal site-packages is not writeable\n",
      "Collecting ru-core-news-md==3.5.0\n",
      "  Downloading https://github.com/explosion/spacy-models/releases/download/ru_core_news_md-3.5.0/ru_core_news_md-3.5.0-py3-none-any.whl (41.9 MB)\n",
      "     ━━━━━━━━━━━━━━━━━━━━━━━━━━━━━━━━━━━━━━━━ 41.9/41.9 MB 23.5 MB/s eta 0:00:00\n",
      "Requirement already satisfied: spacy<3.6.0,>=3.5.0 in /usr/local/lib/python3.10/dist-packages (from ru-core-news-md==3.5.0) (3.5.4)\n",
      "Requirement already satisfied: pymorphy3>=1.0.0 in /home/jupyter/.local/lib/python3.10/site-packages (from ru-core-news-md==3.5.0) (1.2.1)\n",
      "Requirement already satisfied: dawg-python>=0.7.1 in /usr/local/lib/python3.10/dist-packages (from pymorphy3>=1.0.0->ru-core-news-md==3.5.0) (0.7.2)\n",
      "Requirement already satisfied: docopt-ng>=0.6 in /home/jupyter/.local/lib/python3.10/site-packages (from pymorphy3>=1.0.0->ru-core-news-md==3.5.0) (0.9.0)\n",
      "Requirement already satisfied: pymorphy3-dicts-ru in /home/jupyter/.local/lib/python3.10/site-packages (from pymorphy3>=1.0.0->ru-core-news-md==3.5.0) (2.4.417150.4580142)\n",
      "Requirement already satisfied: spacy-legacy<3.1.0,>=3.0.11 in /usr/local/lib/python3.10/dist-packages (from spacy<3.6.0,>=3.5.0->ru-core-news-md==3.5.0) (3.0.12)\n",
      "Requirement already satisfied: spacy-loggers<2.0.0,>=1.0.0 in /usr/local/lib/python3.10/dist-packages (from spacy<3.6.0,>=3.5.0->ru-core-news-md==3.5.0) (1.0.4)\n",
      "Requirement already satisfied: murmurhash<1.1.0,>=0.28.0 in /usr/local/lib/python3.10/dist-packages (from spacy<3.6.0,>=3.5.0->ru-core-news-md==3.5.0) (1.0.9)\n",
      "Requirement already satisfied: cymem<2.1.0,>=2.0.2 in /usr/local/lib/python3.10/dist-packages (from spacy<3.6.0,>=3.5.0->ru-core-news-md==3.5.0) (2.0.7)\n",
      "Requirement already satisfied: preshed<3.1.0,>=3.0.2 in /usr/local/lib/python3.10/dist-packages (from spacy<3.6.0,>=3.5.0->ru-core-news-md==3.5.0) (3.0.8)\n",
      "Requirement already satisfied: thinc<8.2.0,>=8.1.8 in /usr/local/lib/python3.10/dist-packages (from spacy<3.6.0,>=3.5.0->ru-core-news-md==3.5.0) (8.1.10)\n",
      "Requirement already satisfied: wasabi<1.2.0,>=0.9.1 in /usr/local/lib/python3.10/dist-packages (from spacy<3.6.0,>=3.5.0->ru-core-news-md==3.5.0) (1.1.2)\n",
      "Requirement already satisfied: srsly<3.0.0,>=2.4.3 in /usr/local/lib/python3.10/dist-packages (from spacy<3.6.0,>=3.5.0->ru-core-news-md==3.5.0) (2.4.7)\n",
      "Requirement already satisfied: catalogue<2.1.0,>=2.0.6 in /usr/local/lib/python3.10/dist-packages (from spacy<3.6.0,>=3.5.0->ru-core-news-md==3.5.0) (2.0.9)\n",
      "Requirement already satisfied: typer<0.10.0,>=0.3.0 in /usr/local/lib/python3.10/dist-packages (from spacy<3.6.0,>=3.5.0->ru-core-news-md==3.5.0) (0.9.0)\n",
      "Requirement already satisfied: pathy>=0.10.0 in /usr/local/lib/python3.10/dist-packages (from spacy<3.6.0,>=3.5.0->ru-core-news-md==3.5.0) (0.10.2)\n",
      "Requirement already satisfied: smart-open<7.0.0,>=5.2.1 in /usr/local/lib/python3.10/dist-packages (from spacy<3.6.0,>=3.5.0->ru-core-news-md==3.5.0) (6.3.0)\n",
      "Requirement already satisfied: tqdm<5.0.0,>=4.38.0 in /usr/local/lib/python3.10/dist-packages (from spacy<3.6.0,>=3.5.0->ru-core-news-md==3.5.0) (4.65.0)\n",
      "Requirement already satisfied: numpy>=1.15.0 in /usr/local/lib/python3.10/dist-packages (from spacy<3.6.0,>=3.5.0->ru-core-news-md==3.5.0) (1.22.4)\n",
      "Requirement already satisfied: requests<3.0.0,>=2.13.0 in /usr/local/lib/python3.10/dist-packages (from spacy<3.6.0,>=3.5.0->ru-core-news-md==3.5.0) (2.27.1)\n",
      "Requirement already satisfied: pydantic!=1.8,!=1.8.1,<1.11.0,>=1.7.4 in /usr/local/lib/python3.10/dist-packages (from spacy<3.6.0,>=3.5.0->ru-core-news-md==3.5.0) (1.10.12)\n",
      "Requirement already satisfied: jinja2 in /kernel/lib/python3.10/site-packages (from spacy<3.6.0,>=3.5.0->ru-core-news-md==3.5.0) (3.1.2)\n",
      "Requirement already satisfied: setuptools in /kernel/lib/python3.10/site-packages (from spacy<3.6.0,>=3.5.0->ru-core-news-md==3.5.0) (51.0.0)\n",
      "Requirement already satisfied: packaging>=20.0 in /kernel/lib/python3.10/site-packages (from spacy<3.6.0,>=3.5.0->ru-core-news-md==3.5.0) (23.2)\n",
      "Requirement already satisfied: langcodes<4.0.0,>=3.2.0 in /usr/local/lib/python3.10/dist-packages (from spacy<3.6.0,>=3.5.0->ru-core-news-md==3.5.0) (3.3.0)\n",
      "Requirement already satisfied: typing-extensions>=4.2.0 in /kernel/lib/python3.10/site-packages (from pydantic!=1.8,!=1.8.1,<1.11.0,>=1.7.4->spacy<3.6.0,>=3.5.0->ru-core-news-md==3.5.0) (4.8.0)\n",
      "Collecting urllib3<1.27,>=1.21.1 (from requests<3.0.0,>=2.13.0->spacy<3.6.0,>=3.5.0->ru-core-news-md==3.5.0)\n",
      "  Obtaining dependency information for urllib3<1.27,>=1.21.1 from https://files.pythonhosted.org/packages/b0/53/aa91e163dcfd1e5b82d8a890ecf13314e3e149c05270cc644581f77f17fd/urllib3-1.26.18-py2.py3-none-any.whl.metadata\n",
      "  Downloading urllib3-1.26.18-py2.py3-none-any.whl.metadata (48 kB)\n",
      "     ━━━━━━━━━━━━━━━━━━━━━━━━━━━━━━━━━━━━━━━ 48.9/48.9 kB 673.5 kB/s eta 0:00:00\n",
      "Requirement already satisfied: certifi>=2017.4.17 in /kernel/lib/python3.10/site-packages (from requests<3.0.0,>=2.13.0->spacy<3.6.0,>=3.5.0->ru-core-news-md==3.5.0) (2023.7.22)\n",
      "Collecting charset-normalizer~=2.0.0 (from requests<3.0.0,>=2.13.0->spacy<3.6.0,>=3.5.0->ru-core-news-md==3.5.0)\n",
      "  Downloading charset_normalizer-2.0.12-py3-none-any.whl (39 kB)\n",
      "Requirement already satisfied: idna<4,>=2.5 in /kernel/lib/python3.10/site-packages (from requests<3.0.0,>=2.13.0->spacy<3.6.0,>=3.5.0->ru-core-news-md==3.5.0) (3.4)\n",
      "Requirement already satisfied: blis<0.8.0,>=0.7.8 in /usr/local/lib/python3.10/dist-packages (from thinc<8.2.0,>=8.1.8->spacy<3.6.0,>=3.5.0->ru-core-news-md==3.5.0) (0.7.10)\n",
      "Requirement already satisfied: confection<1.0.0,>=0.0.1 in /usr/local/lib/python3.10/dist-packages (from thinc<8.2.0,>=8.1.8->spacy<3.6.0,>=3.5.0->ru-core-news-md==3.5.0) (0.1.0)\n",
      "Requirement already satisfied: click<9.0.0,>=7.1.1 in /usr/local/lib/python3.10/dist-packages (from typer<0.10.0,>=0.3.0->spacy<3.6.0,>=3.5.0->ru-core-news-md==3.5.0) (8.1.6)\n",
      "Requirement already satisfied: MarkupSafe>=2.0 in /kernel/lib/python3.10/site-packages (from jinja2->spacy<3.6.0,>=3.5.0->ru-core-news-md==3.5.0) (2.1.3)\n",
      "Downloading urllib3-1.26.18-py2.py3-none-any.whl (143 kB)\n",
      "   ━━━━━━━━━━━━━━━━━━━━━━━━━━━━━━━━━━━━━━━━ 143.8/143.8 kB 1.9 MB/s eta 0:00:00\n",
      "Installing collected packages: urllib3, charset-normalizer\n",
      "Successfully installed charset-normalizer-2.0.12 urllib3-1.26.18\n",
      "\u001b[38;5;2m✔ Download and installation successful\u001b[0m\n",
      "You can now load the package via spacy.load('ru_core_news_md')\n"
     ]
    },
    {
     "name": "stderr",
     "output_type": "stream",
     "text": [
      "2023-11-24 19:25:35.054045: I tensorflow/core/util/port.cc:110] oneDNN custom operations are on. You may see slightly different numerical results due to floating-point round-off errors from different computation orders. To turn them off, set the environment variable `TF_ENABLE_ONEDNN_OPTS=0`.\n",
      "2023-11-24 19:25:36.352340: I tensorflow/core/platform/cpu_feature_guard.cc:182] This TensorFlow binary is optimized to use available CPU instructions in performance-critical operations.\n",
      "To enable the following instructions: AVX2 AVX512F AVX512_VNNI FMA, in other operations, rebuild TensorFlow with the appropriate compiler flags.\n",
      "2023-11-24 19:25:39.757659: W tensorflow/compiler/tf2tensorrt/utils/py_utils.cc:38] TF-TRT Warning: Could not find TensorRT\n",
      "/usr/local/lib/python3.10/dist-packages/requests/__init__.py:102: RequestsDependencyWarning: urllib3 (2.0.7) or chardet (4.0.0)/charset_normalizer (3.3.2) doesn't match a supported version!\n",
      "  warnings.warn(\"urllib3 ({}) or chardet ({})/charset_normalizer ({}) doesn't match a supported \"\n",
      "  WARNING: The script normalizer is installed in '/home/jupyter/.local/bin' which is not on PATH.\n",
      "  Consider adding this directory to PATH or, if you prefer to suppress this warning, use --no-warn-script-location.\n",
      "ERROR: pip's dependency resolver does not currently take into account all the packages that are installed. This behaviour is the source of the following dependency conflicts.\n",
      "gcsfs 2023.6.0 requires fsspec==2023.6.0, but you have fsspec 2023.10.0 which is incompatible.\n",
      "\n",
      "[notice] A new release of pip is available: 23.2.1 -> 23.3.1\n",
      "[notice] To update, run: python3 -m pip install --upgrade pip\n"
     ]
    }
   ],
   "source": [
    "!spacy download ru_core_news_md"
   ]
  },
  {
   "cell_type": "code",
   "execution_count": 2,
   "id": "201ca1cb-77cf-46b9-8f10-cf41ffaef56b",
   "metadata": {
    "execution": {
     "iopub.execute_input": "2023-11-24T19:26:03.528752Z",
     "iopub.status.busy": "2023-11-24T19:26:03.527682Z",
     "iopub.status.idle": "2023-11-24T19:26:06.157005Z",
     "shell.execute_reply": "2023-11-24T19:26:06.156098Z",
     "shell.execute_reply.started": "2023-11-24T19:26:03.528702Z"
    }
   },
   "outputs": [
    {
     "name": "stderr",
     "output_type": "stream",
     "text": [
      "[nltk_data] Downloading package punkt to /home/jupyter/nltk_data...\n",
      "[nltk_data]   Package punkt is already up-to-date!\n"
     ]
    },
    {
     "data": {
      "text/plain": [
       "168"
      ]
     },
     "execution_count": 2,
     "metadata": {},
     "output_type": "execute_result"
    }
   ],
   "source": [
    "import nltk.data\n",
    "nltk.download('punkt')\n",
    "tokenizer_1 = nltk.data.load('tokenizers/punkt/russian.pickle')\n",
    "fp = open(\"/home/jupyter/datasphere/project/res/medium/transcription6.txt\")\n",
    "\n",
    "data = fp.read()\n",
    "input_sequences = tokenizer_1.tokenize(data)\n",
    "len(input_sequences)"
   ]
  },
  {
   "cell_type": "code",
   "execution_count": 3,
   "id": "7b16bf30-2468-4240-b531-5d15a357d71f",
   "metadata": {
    "execution": {
     "iopub.execute_input": "2023-11-24T19:26:06.159036Z",
     "iopub.status.busy": "2023-11-24T19:26:06.158296Z",
     "iopub.status.idle": "2023-11-24T19:26:06.195743Z",
     "shell.execute_reply": "2023-11-24T19:26:06.194985Z",
     "shell.execute_reply.started": "2023-11-24T19:26:06.158995Z"
    }
   },
   "outputs": [
    {
     "name": "stderr",
     "output_type": "stream",
     "text": [
      "[nltk_data] Downloading package stopwords to\n",
      "[nltk_data]     /home/jupyter/nltk_data...\n",
      "[nltk_data]   Package stopwords is already up-to-date!\n"
     ]
    }
   ],
   "source": [
    "nltk.download(\"stopwords\")\n",
    "#--------#\n",
    "\n",
    "from nltk.corpus import stopwords\n",
    "from pymystem3 import Mystem\n",
    "from string import punctuation"
   ]
  },
  {
   "cell_type": "code",
   "execution_count": 4,
   "id": "30ba1294-6ba0-4a58-8767-6ca84cdc06fd",
   "metadata": {
    "execution": {
     "iopub.execute_input": "2023-11-24T19:26:13.569934Z",
     "iopub.status.busy": "2023-11-24T19:26:13.569120Z",
     "iopub.status.idle": "2023-11-24T19:26:18.711422Z",
     "shell.execute_reply": "2023-11-24T19:26:18.710608Z",
     "shell.execute_reply.started": "2023-11-24T19:26:13.569896Z"
    }
   },
   "outputs": [
    {
     "name": "stderr",
     "output_type": "stream",
     "text": [
      "2023-11-24 19:26:15.715711: I tensorflow/core/util/port.cc:110] oneDNN custom operations are on. You may see slightly different numerical results due to floating-point round-off errors from different computation orders. To turn them off, set the environment variable `TF_ENABLE_ONEDNN_OPTS=0`.\n",
      "2023-11-24 19:26:15.780403: I tensorflow/core/platform/cpu_feature_guard.cc:182] This TensorFlow binary is optimized to use available CPU instructions in performance-critical operations.\n",
      "To enable the following instructions: AVX2 AVX512F AVX512_VNNI FMA, in other operations, rebuild TensorFlow with the appropriate compiler flags.\n",
      "2023-11-24 19:26:16.966986: W tensorflow/compiler/tf2tensorrt/utils/py_utils.cc:38] TF-TRT Warning: Could not find TensorRT\n"
     ]
    }
   ],
   "source": [
    "import spacy"
   ]
  },
  {
   "cell_type": "code",
   "execution_count": 5,
   "id": "67864aca-43ae-4d2d-807b-374142490972",
   "metadata": {
    "execution": {
     "iopub.execute_input": "2023-11-24T19:26:25.303687Z",
     "iopub.status.busy": "2023-11-24T19:26:25.302657Z",
     "iopub.status.idle": "2023-11-24T19:26:32.331643Z",
     "shell.execute_reply": "2023-11-24T19:26:32.330781Z",
     "shell.execute_reply.started": "2023-11-24T19:26:25.303644Z"
    }
   },
   "outputs": [
    {
     "name": "stdout",
     "output_type": "stream",
     "text": [
      "['tok2vec', 'morphologizer', 'parser', 'attribute_ruler', 'lemmatizer', 'ner']\n"
     ]
    }
   ],
   "source": [
    "nlp = spacy.load(\"ru_core_news_md\")\n",
    "print(nlp.pipe_names)"
   ]
  },
  {
   "cell_type": "code",
   "execution_count": 6,
   "id": "978c2490-9eaf-4f40-9b42-e43bfccf4041",
   "metadata": {
    "execution": {
     "iopub.execute_input": "2023-11-24T19:26:36.150079Z",
     "iopub.status.busy": "2023-11-24T19:26:36.149329Z",
     "iopub.status.idle": "2023-11-24T19:26:36.160896Z",
     "shell.execute_reply": "2023-11-24T19:26:36.160041Z",
     "shell.execute_reply.started": "2023-11-24T19:26:36.150043Z"
    }
   },
   "outputs": [],
   "source": [
    "def lemmatize(doc):\n",
    "    words = []\n",
    "    for token in doc:\n",
    "        if (token.is_stop != True) and (token.is_punct != True) and\\\n",
    "            (token.is_space != True) and (token.is_digit != True):\n",
    "            words.append(token.lemma_)\n",
    "    return ' '.join(words)"
   ]
  },
  {
   "cell_type": "code",
   "execution_count": 7,
   "id": "9f03c54c-e40f-4208-ad09-167bc03d4afa",
   "metadata": {
    "execution": {
     "iopub.execute_input": "2023-11-24T19:27:05.468263Z",
     "iopub.status.busy": "2023-11-24T19:27:05.467361Z",
     "iopub.status.idle": "2023-11-24T19:27:05.496850Z",
     "shell.execute_reply": "2023-11-24T19:27:05.496022Z",
     "shell.execute_reply.started": "2023-11-24T19:27:05.468191Z"
    }
   },
   "outputs": [],
   "source": [
    "mystem = Mystem() \n",
    "russian_stopwords = stopwords.words(\"russian\")\n",
    "\n",
    "#Preprocess function\n",
    "def preprocess_text(text):\n",
    "    tokens = mystem.lemmatize(text.lower())\n",
    "    tokens = [token for token in tokens if token not in russian_stopwords\\\n",
    "              and token != \" \" \\\n",
    "              and token.strip() not in punctuation]\n",
    "    \n",
    "    text = \" \".join(tokens)\n",
    "    \n",
    "    return text"
   ]
  },
  {
   "cell_type": "code",
   "execution_count": 8,
   "id": "9c63171a-97a1-48a4-8fdf-f59abdb4af09",
   "metadata": {
    "execution": {
     "iopub.execute_input": "2023-11-24T19:41:30.416380Z",
     "iopub.status.busy": "2023-11-24T19:41:30.415295Z",
     "iopub.status.idle": "2023-11-24T19:41:30.783835Z",
     "shell.execute_reply": "2023-11-24T19:41:30.782981Z",
     "shell.execute_reply.started": "2023-11-24T19:41:30.416320Z"
    }
   },
   "outputs": [],
   "source": [
    "import re\n",
    "def find_noun(txt):\n",
    "    txt = re.sub(r'[«.,\"\\'-?–:—!;–»]', '', txt)\n",
    "    txt_n_1 = preprocess_text(txt)\n",
    "    #txt_n_2 = lemmatize(nlp(txt_n_1))\n",
    "    doc_n = nlp(txt_n_1)\n",
    "    index = 0\n",
    "    nounIndices = []\n",
    "    for token in doc_n:\n",
    "        # print(token.text, token.pos_, token.dep_, token.head.text)\n",
    "        #print(token)\n",
    "        if token.pos_ == 'NOUN':\n",
    "            nounIndices.append(index)\n",
    "        index = index + 1\n",
    "    \n",
    "    txt_n_1_split = txt_n_1.split()\n",
    "    #print(nounIndices)\n",
    "    #print(txt_n_1_split)\n",
    "    return [txt_n_1_split[i] for i in nounIndices]"
   ]
  },
  {
   "cell_type": "code",
   "execution_count": 10,
   "id": "88a605ee-1870-45e5-919e-dcf50cf6ca27",
   "metadata": {
    "execution": {
     "iopub.execute_input": "2023-11-24T19:43:09.882253Z",
     "iopub.status.busy": "2023-11-24T19:43:09.881416Z",
     "iopub.status.idle": "2023-11-24T19:43:29.405443Z",
     "shell.execute_reply": "2023-11-24T19:43:29.404438Z",
     "shell.execute_reply.started": "2023-11-24T19:43:09.882200Z"
    },
    "tags": []
   },
   "outputs": [],
   "source": [
    "res = set()\n",
    "fp = open(\"/home/jupyter/datasphere/project/res/medium/transcription6.txt\")\n",
    "data = fp.read()\n",
    "input_sequences = tokenizer_1.tokenize(data)\n",
    "for i in input_sequences:\n",
    "    res = res | set(find_noun(i))"
   ]
  },
  {
   "cell_type": "code",
   "execution_count": 11,
   "id": "f749005f-4f94-40e4-a536-03afe9f01acf",
   "metadata": {
    "execution": {
     "iopub.execute_input": "2023-11-24T19:43:29.407436Z",
     "iopub.status.busy": "2023-11-24T19:43:29.406936Z",
     "iopub.status.idle": "2023-11-24T19:43:29.426907Z",
     "shell.execute_reply": "2023-11-24T19:43:29.426152Z",
     "shell.execute_reply.started": "2023-11-24T19:43:29.407394Z"
    }
   },
   "outputs": [],
   "source": [
    "import pandas as pd\n",
    "df = pd.DataFrame(res, columns =['words'])"
   ]
  },
  {
   "cell_type": "code",
   "execution_count": null,
   "id": "aee2168c-40b5-44a7-8dea-7bd8a40201f6",
   "metadata": {},
   "outputs": [],
   "source": [
    "#df.to_excel('words.xlsx')"
   ]
  },
  {
   "cell_type": "code",
   "execution_count": 13,
   "id": "ba8582a6-9d9c-4f75-8ad5-52a54adb4a70",
   "metadata": {
    "execution": {
     "iopub.execute_input": "2023-11-24T19:45:13.647496Z",
     "iopub.status.busy": "2023-11-24T19:45:13.646457Z",
     "iopub.status.idle": "2023-11-24T19:45:15.141893Z",
     "shell.execute_reply": "2023-11-24T19:45:15.140984Z",
     "shell.execute_reply.started": "2023-11-24T19:45:13.647434Z"
    },
    "tags": []
   },
   "outputs": [],
   "source": [
    "res_context = []\n",
    "ind_seq = []\n",
    "seq = []\n",
    "last_len = 0\n",
    "#print(j)\n",
    "fp = open(\"/home/jupyter/datasphere/project/res/medium/transcription6.txt\")\n",
    "data = fp.read()\n",
    "input_sequences = tokenizer_1.tokenize(data)\n",
    "#print(len(input_sequences))\n",
    "for i, seq_ in enumerate(input_sequences):\n",
    "    #print(i)\n",
    "    l_ = find_noun(seq_)\n",
    "    ind_seq += [i + last_len]*len(l_)\n",
    "    res_context = res_context + l_\n",
    "seq = seq + input_sequences + ['']\n",
    "    #print(last_len)"
   ]
  },
  {
   "cell_type": "code",
   "execution_count": 14,
   "id": "b0e0b76c-6676-4c57-8f89-6a102a0fe11a",
   "metadata": {
    "execution": {
     "iopub.execute_input": "2023-11-24T19:45:26.749094Z",
     "iopub.status.busy": "2023-11-24T19:45:26.747979Z",
     "iopub.status.idle": "2023-11-24T19:45:26.767015Z",
     "shell.execute_reply": "2023-11-24T19:45:26.766209Z",
     "shell.execute_reply.started": "2023-11-24T19:45:26.749053Z"
    }
   },
   "outputs": [],
   "source": [
    "strings = []\n",
    "for word in df['words']:\n",
    "    idx = res_context.index(word)\n",
    "    idx_seq = ind_seq[idx]\n",
    "    strings.append(seq[idx_seq] + ' ' + seq[idx_seq+1])"
   ]
  },
  {
   "cell_type": "code",
   "execution_count": 15,
   "id": "994507f5-1a1d-45d3-a724-439846e81f8d",
   "metadata": {
    "execution": {
     "iopub.execute_input": "2023-11-24T19:45:38.471735Z",
     "iopub.status.busy": "2023-11-24T19:45:38.470890Z",
     "iopub.status.idle": "2023-11-24T19:45:38.500413Z",
     "shell.execute_reply": "2023-11-24T19:45:38.499608Z",
     "shell.execute_reply.started": "2023-11-24T19:45:38.471690Z"
    }
   },
   "outputs": [
    {
     "data": {
      "text/html": [
       "<div>\n",
       "<style scoped>\n",
       "    .dataframe tbody tr th:only-of-type {\n",
       "        vertical-align: middle;\n",
       "    }\n",
       "\n",
       "    .dataframe tbody tr th {\n",
       "        vertical-align: top;\n",
       "    }\n",
       "\n",
       "    .dataframe thead th {\n",
       "        text-align: right;\n",
       "    }\n",
       "</style>\n",
       "<table border=\"1\" class=\"dataframe\">\n",
       "  <thead>\n",
       "    <tr style=\"text-align: right;\">\n",
       "      <th></th>\n",
       "      <th>words</th>\n",
       "      <th>string</th>\n",
       "    </tr>\n",
       "  </thead>\n",
       "  <tbody>\n",
       "    <tr>\n",
       "      <th>0</th>\n",
       "      <td>значение</td>\n",
       "      <td>Тут некоторые значения по умолчанию нам подска...</td>\n",
       "    </tr>\n",
       "    <tr>\n",
       "      <th>1</th>\n",
       "      <td>сущность</td>\n",
       "      <td>Следующая сущность – это переменная. Что такое...</td>\n",
       "    </tr>\n",
       "    <tr>\n",
       "      <th>2</th>\n",
       "      <td>программа</td>\n",
       "      <td>Это программа, выполняющая обострочный анализ,...</td>\n",
       "    </tr>\n",
       "    <tr>\n",
       "      <th>3</th>\n",
       "      <td>приложение</td>\n",
       "      <td>Большой набор библиотек и встроенных инструмен...</td>\n",
       "    </tr>\n",
       "    <tr>\n",
       "      <th>4</th>\n",
       "      <td>функция</td>\n",
       "      <td>Это делается с помощью функции print. Давайте ...</td>\n",
       "    </tr>\n",
       "    <tr>\n",
       "      <th>...</th>\n",
       "      <td>...</td>\n",
       "      <td>...</td>\n",
       "    </tr>\n",
       "    <tr>\n",
       "      <th>141</th>\n",
       "      <td>пример</td>\n",
       "      <td>И как и во всех предыдущих примерах, для тести...</td>\n",
       "    </tr>\n",
       "    <tr>\n",
       "      <th>142</th>\n",
       "      <td>многий</td>\n",
       "      <td>Из-за этого в сети можно найти много гайтов, о...</td>\n",
       "    </tr>\n",
       "    <tr>\n",
       "      <th>143</th>\n",
       "      <td>баз</td>\n",
       "      <td>Большой набор библиотек и встроенных инструмен...</td>\n",
       "    </tr>\n",
       "    <tr>\n",
       "      <th>144</th>\n",
       "      <td>курс</td>\n",
       "      <td>Давайте выведем стандартный для начала курсов ...</td>\n",
       "    </tr>\n",
       "    <tr>\n",
       "      <th>145</th>\n",
       "      <td>сервис</td>\n",
       "      <td>Большой набор библиотек и встроенных инструмен...</td>\n",
       "    </tr>\n",
       "  </tbody>\n",
       "</table>\n",
       "<p>146 rows × 2 columns</p>\n",
       "</div>"
      ],
      "text/plain": [
       "          words                                             string\n",
       "0      значение  Тут некоторые значения по умолчанию нам подска...\n",
       "1      сущность  Следующая сущность – это переменная. Что такое...\n",
       "2     программа  Это программа, выполняющая обострочный анализ,...\n",
       "3    приложение  Большой набор библиотек и встроенных инструмен...\n",
       "4       функция  Это делается с помощью функции print. Давайте ...\n",
       "..          ...                                                ...\n",
       "141      пример  И как и во всех предыдущих примерах, для тести...\n",
       "142      многий  Из-за этого в сети можно найти много гайтов, о...\n",
       "143         баз  Большой набор библиотек и встроенных инструмен...\n",
       "144        курс  Давайте выведем стандартный для начала курсов ...\n",
       "145      сервис  Большой набор библиотек и встроенных инструмен...\n",
       "\n",
       "[146 rows x 2 columns]"
      ]
     },
     "execution_count": 15,
     "metadata": {},
     "output_type": "execute_result"
    }
   ],
   "source": [
    "df['string'] = strings\n",
    "df"
   ]
  },
  {
   "cell_type": "code",
   "execution_count": 16,
   "id": "cdc8f7b8-44ba-48d7-af5c-21e8c2dbc4ab",
   "metadata": {
    "execution": {
     "iopub.execute_input": "2023-11-24T19:46:07.865318Z",
     "iopub.status.busy": "2023-11-24T19:46:07.864318Z",
     "iopub.status.idle": "2023-11-24T19:46:07.886261Z",
     "shell.execute_reply": "2023-11-24T19:46:07.885487Z",
     "shell.execute_reply.started": "2023-11-24T19:46:07.865266Z"
    }
   },
   "outputs": [],
   "source": [
    "df.to_csv('data_ruBERT_6.csv')"
   ]
  },
  {
   "cell_type": "markdown",
   "id": "6b51bd72-a1a6-4b36-8e22-edf7f8b3dc82",
   "metadata": {},
   "source": [
    "## Уточнение определений\n"
   ]
  },
  {
   "cell_type": "code",
   "execution_count": 17,
   "id": "0ee24d91-3c19-48ba-87fb-330d78964bc9",
   "metadata": {
    "execution": {
     "iopub.execute_input": "2023-11-24T19:49:14.764483Z",
     "iopub.status.busy": "2023-11-24T19:49:14.763600Z",
     "iopub.status.idle": "2023-11-24T19:49:21.258664Z",
     "shell.execute_reply": "2023-11-24T19:49:21.257357Z",
     "shell.execute_reply.started": "2023-11-24T19:49:14.764430Z"
    }
   },
   "outputs": [
    {
     "name": "stdout",
     "output_type": "stream",
     "text": [
      "Defaulting to user installation because normal site-packages is not writeable\n",
      "Requirement already satisfied: datasets in /home/jupyter/.local/lib/python3.10/site-packages (2.15.0)\n",
      "Requirement already satisfied: numpy>=1.17 in /usr/local/lib/python3.10/dist-packages (from datasets) (1.22.4)\n",
      "Requirement already satisfied: pyarrow>=8.0.0 in /usr/local/lib/python3.10/dist-packages (from datasets) (9.0.0)\n",
      "Requirement already satisfied: pyarrow-hotfix in /home/jupyter/.local/lib/python3.10/site-packages (from datasets) (0.6)\n",
      "Requirement already satisfied: dill<0.3.8,>=0.3.0 in /home/jupyter/.local/lib/python3.10/site-packages (from datasets) (0.3.7)\n",
      "Requirement already satisfied: pandas in /usr/local/lib/python3.10/dist-packages (from datasets) (1.5.3)\n",
      "Requirement already satisfied: requests>=2.19.0 in /usr/local/lib/python3.10/dist-packages (from datasets) (2.27.1)\n",
      "Requirement already satisfied: tqdm>=4.62.1 in /usr/local/lib/python3.10/dist-packages (from datasets) (4.65.0)\n",
      "Requirement already satisfied: xxhash in /kernel/fallback/lib/python3.10/site-packages (from datasets) (2.0.0)\n",
      "Requirement already satisfied: multiprocess in /home/jupyter/.local/lib/python3.10/site-packages (from datasets) (0.70.15)\n",
      "Requirement already satisfied: fsspec[http]<=2023.10.0,>=2023.1.0 in /home/jupyter/.local/lib/python3.10/site-packages (from datasets) (2023.10.0)\n",
      "Requirement already satisfied: aiohttp in /usr/local/lib/python3.10/dist-packages (from datasets) (3.8.5)\n",
      "Requirement already satisfied: huggingface-hub>=0.18.0 in /home/jupyter/.local/lib/python3.10/site-packages (from datasets) (0.19.4)\n",
      "Requirement already satisfied: packaging in /kernel/lib/python3.10/site-packages (from datasets) (23.2)\n",
      "Requirement already satisfied: pyyaml>=5.1 in /usr/local/lib/python3.10/dist-packages (from datasets) (6.0.1)\n",
      "Requirement already satisfied: attrs>=17.3.0 in /kernel/lib/python3.10/site-packages (from aiohttp->datasets) (23.1.0)\n",
      "Requirement already satisfied: charset-normalizer<4.0,>=2.0 in /kernel/lib/python3.10/site-packages (from aiohttp->datasets) (3.3.2)\n",
      "Requirement already satisfied: multidict<7.0,>=4.5 in /usr/local/lib/python3.10/dist-packages (from aiohttp->datasets) (6.0.4)\n",
      "Requirement already satisfied: async-timeout<5.0,>=4.0.0a3 in /usr/local/lib/python3.10/dist-packages (from aiohttp->datasets) (4.0.2)\n",
      "Requirement already satisfied: yarl<2.0,>=1.0 in /usr/local/lib/python3.10/dist-packages (from aiohttp->datasets) (1.9.2)\n",
      "Requirement already satisfied: frozenlist>=1.1.1 in /usr/local/lib/python3.10/dist-packages (from aiohttp->datasets) (1.4.0)\n",
      "Requirement already satisfied: aiosignal>=1.1.2 in /usr/local/lib/python3.10/dist-packages (from aiohttp->datasets) (1.3.1)\n",
      "Requirement already satisfied: filelock in /usr/local/lib/python3.10/dist-packages (from huggingface-hub>=0.18.0->datasets) (3.12.2)\n",
      "Requirement already satisfied: typing-extensions>=3.7.4.3 in /kernel/lib/python3.10/site-packages (from huggingface-hub>=0.18.0->datasets) (4.8.0)\n",
      "Collecting urllib3<1.27,>=1.21.1 (from requests>=2.19.0->datasets)\n",
      "  Obtaining dependency information for urllib3<1.27,>=1.21.1 from https://files.pythonhosted.org/packages/b0/53/aa91e163dcfd1e5b82d8a890ecf13314e3e149c05270cc644581f77f17fd/urllib3-1.26.18-py2.py3-none-any.whl.metadata\n",
      "  Using cached urllib3-1.26.18-py2.py3-none-any.whl.metadata (48 kB)\n",
      "Requirement already satisfied: certifi>=2017.4.17 in /kernel/lib/python3.10/site-packages (from requests>=2.19.0->datasets) (2023.7.22)\n",
      "Collecting charset-normalizer<4.0,>=2.0 (from aiohttp->datasets)\n",
      "  Using cached charset_normalizer-2.0.12-py3-none-any.whl (39 kB)\n",
      "Requirement already satisfied: idna<4,>=2.5 in /kernel/lib/python3.10/site-packages (from requests>=2.19.0->datasets) (3.4)\n",
      "Requirement already satisfied: python-dateutil>=2.8.1 in /kernel/lib/python3.10/site-packages (from pandas->datasets) (2.8.2)\n",
      "Requirement already satisfied: pytz>=2020.1 in /usr/local/lib/python3.10/dist-packages (from pandas->datasets) (2022.7.1)\n",
      "Requirement already satisfied: six>=1.5 in /kernel/lib/python3.10/site-packages (from python-dateutil>=2.8.1->pandas->datasets) (1.16.0)\n",
      "Using cached urllib3-1.26.18-py2.py3-none-any.whl (143 kB)\n",
      "Installing collected packages: urllib3, charset-normalizer\n",
      "\u001b[33m  WARNING: The script normalizer is installed in '/home/jupyter/.local/bin' which is not on PATH.\n",
      "  Consider adding this directory to PATH or, if you prefer to suppress this warning, use --no-warn-script-location.\u001b[0m\u001b[33m\n",
      "\u001b[0m\u001b[31mERROR: pip's dependency resolver does not currently take into account all the packages that are installed. This behaviour is the source of the following dependency conflicts.\n",
      "gcsfs 2023.6.0 requires fsspec==2023.6.0, but you have fsspec 2023.10.0 which is incompatible.\u001b[0m\u001b[31m\n",
      "\u001b[0mSuccessfully installed charset-normalizer-2.0.12 urllib3-1.26.18\n",
      "\n",
      "\u001b[1m[\u001b[0m\u001b[34;49mnotice\u001b[0m\u001b[1;39;49m]\u001b[0m\u001b[39;49m A new release of pip is available: \u001b[0m\u001b[31;49m23.2.1\u001b[0m\u001b[39;49m -> \u001b[0m\u001b[32;49m23.3.1\u001b[0m\n",
      "\u001b[1m[\u001b[0m\u001b[34;49mnotice\u001b[0m\u001b[1;39;49m]\u001b[0m\u001b[39;49m To update, run: \u001b[0m\u001b[32;49mpython3 -m pip install --upgrade pip\u001b[0m\n"
     ]
    }
   ],
   "source": [
    "%pip install datasets"
   ]
  },
  {
   "cell_type": "code",
   "execution_count": 18,
   "id": "aee8842e-1943-4030-9667-8632b4bc41f0",
   "metadata": {
    "execution": {
     "iopub.execute_input": "2023-11-24T19:49:21.261795Z",
     "iopub.status.busy": "2023-11-24T19:49:21.261049Z",
     "iopub.status.idle": "2023-11-24T19:49:23.652430Z",
     "shell.execute_reply": "2023-11-24T19:49:23.651558Z",
     "shell.execute_reply.started": "2023-11-24T19:49:21.261756Z"
    }
   },
   "outputs": [],
   "source": [
    "import pandas as pd\n",
    "import numpy as np\n",
    "import random\n",
    "import torch\n",
    "import transformers\n",
    "import torch.nn as nn\n",
    "from transformers import AutoModel, BertTokenizer, BertForSequenceClassification\n",
    "from transformers import TrainingArguments, Trainer\n",
    "from datasets import load_metric, Dataset"
   ]
  },
  {
   "cell_type": "code",
   "execution_count": 19,
   "id": "78a95e2c-5b2a-4760-ab3a-3e6842acd145",
   "metadata": {
    "execution": {
     "iopub.execute_input": "2023-11-24T19:53:00.526257Z",
     "iopub.status.busy": "2023-11-24T19:53:00.524689Z",
     "iopub.status.idle": "2023-11-24T19:53:00.562178Z",
     "shell.execute_reply": "2023-11-24T19:53:00.561258Z",
     "shell.execute_reply.started": "2023-11-24T19:53:00.526205Z"
    }
   },
   "outputs": [],
   "source": [
    "df = pd.read_csv(\"data_ruBERT_6.csv\")"
   ]
  },
  {
   "cell_type": "code",
   "execution_count": 20,
   "id": "b6055f28-b32b-4144-a912-b7dc26fddce2",
   "metadata": {
    "execution": {
     "iopub.execute_input": "2023-11-24T19:53:50.837461Z",
     "iopub.status.busy": "2023-11-24T19:53:50.836679Z",
     "iopub.status.idle": "2023-11-24T19:53:50.859074Z",
     "shell.execute_reply": "2023-11-24T19:53:50.858080Z",
     "shell.execute_reply.started": "2023-11-24T19:53:50.837422Z"
    }
   },
   "outputs": [],
   "source": [
    "df['w_s'] = df['words'] + ' ' + df['string']"
   ]
  },
  {
   "cell_type": "code",
   "execution_count": 21,
   "id": "2820cce4-00ba-4e36-9234-22b8f225490b",
   "metadata": {
    "execution": {
     "iopub.execute_input": "2023-11-24T19:54:06.616650Z",
     "iopub.status.busy": "2023-11-24T19:54:06.615741Z",
     "iopub.status.idle": "2023-11-24T19:54:06.628352Z",
     "shell.execute_reply": "2023-11-24T19:54:06.627440Z",
     "shell.execute_reply.started": "2023-11-24T19:54:06.616610Z"
    }
   },
   "outputs": [],
   "source": [
    "def f(s):\n",
    "    return ' '.join(s.split()[:512])\n",
    "\n",
    "df['w_s'] = df['w_s'].apply( f )"
   ]
  },
  {
   "cell_type": "code",
   "execution_count": 29,
   "id": "81922c8e-be11-4555-9505-1fba464cd7da",
   "metadata": {
    "execution": {
     "iopub.execute_input": "2023-11-24T19:59:09.394349Z",
     "iopub.status.busy": "2023-11-24T19:59:09.393383Z",
     "iopub.status.idle": "2023-11-24T19:59:09.406608Z",
     "shell.execute_reply": "2023-11-24T19:59:09.405761Z",
     "shell.execute_reply.started": "2023-11-24T19:59:09.394307Z"
    }
   },
   "outputs": [],
   "source": [
    "df['label'] = 0"
   ]
  },
  {
   "cell_type": "code",
   "execution_count": 30,
   "id": "0164328f-6254-4242-b6db-cc9a8ef09b1b",
   "metadata": {
    "execution": {
     "iopub.execute_input": "2023-11-24T19:59:10.333941Z",
     "iopub.status.busy": "2023-11-24T19:59:10.332950Z",
     "iopub.status.idle": "2023-11-24T19:59:10.348427Z",
     "shell.execute_reply": "2023-11-24T19:59:10.347587Z",
     "shell.execute_reply.started": "2023-11-24T19:59:10.333890Z"
    },
    "tags": []
   },
   "outputs": [],
   "source": [
    "pred_text = df.reset_index()['w_s'].astype('str')\n",
    "pred_label = df.reset_index()['label']"
   ]
  },
  {
   "cell_type": "code",
   "execution_count": 25,
   "id": "eb7ec108-a2c7-47ec-ab35-f1aa4b278901",
   "metadata": {
    "execution": {
     "iopub.execute_input": "2023-11-24T19:55:37.712162Z",
     "iopub.status.busy": "2023-11-24T19:55:37.711202Z",
     "iopub.status.idle": "2023-11-24T19:55:37.723220Z",
     "shell.execute_reply": "2023-11-24T19:55:37.722435Z",
     "shell.execute_reply.started": "2023-11-24T19:55:37.712122Z"
    }
   },
   "outputs": [],
   "source": [
    "model_name = \"/home/jupyter/datasphere/project/fine-tune-bert\""
   ]
  },
  {
   "cell_type": "code",
   "execution_count": 26,
   "id": "0455f55a-8f87-4071-903b-8502672ddc7c",
   "metadata": {
    "execution": {
     "iopub.execute_input": "2023-11-24T19:55:48.766453Z",
     "iopub.status.busy": "2023-11-24T19:55:48.765553Z",
     "iopub.status.idle": "2023-11-24T19:55:53.127126Z",
     "shell.execute_reply": "2023-11-24T19:55:53.126294Z",
     "shell.execute_reply.started": "2023-11-24T19:55:48.766396Z"
    }
   },
   "outputs": [],
   "source": [
    "model = BertForSequenceClassification.from_pretrained(model_name, num_labels=2)\n",
    "tokenizer = BertTokenizer.from_pretrained(model_name)"
   ]
  },
  {
   "cell_type": "code",
   "execution_count": 27,
   "id": "b21d1532-cb10-48fc-80f4-4c7c75a9aa77",
   "metadata": {
    "execution": {
     "iopub.execute_input": "2023-11-24T19:56:20.627560Z",
     "iopub.status.busy": "2023-11-24T19:56:20.626796Z",
     "iopub.status.idle": "2023-11-24T19:56:20.748920Z",
     "shell.execute_reply": "2023-11-24T19:56:20.748085Z",
     "shell.execute_reply.started": "2023-11-24T19:56:20.627522Z"
    }
   },
   "outputs": [],
   "source": [
    "tokens_pred = tokenizer.batch_encode_plus(\n",
    "    pred_text.values,\n",
    "    max_length = 512,\n",
    "    padding = 'max_length',\n",
    "    truncation = True\n",
    ")"
   ]
  },
  {
   "cell_type": "code",
   "execution_count": null,
   "id": "659f1c0d-61a2-432d-b696-da69e438b6ed",
   "metadata": {},
   "outputs": [],
   "source": [
    "%pip install accelerate -U"
   ]
  },
  {
   "cell_type": "code",
   "execution_count": null,
   "id": "ed1113ee-ce27-41cd-82e4-299bb3fdd77f",
   "metadata": {},
   "outputs": [],
   "source": [
    "%pip install transformers[torch]"
   ]
  },
  {
   "cell_type": "code",
   "execution_count": 31,
   "id": "70bc465e-a31d-4379-ab12-8c23083c3b98",
   "metadata": {
    "execution": {
     "iopub.execute_input": "2023-11-24T19:59:18.883315Z",
     "iopub.status.busy": "2023-11-24T19:59:18.882423Z",
     "iopub.status.idle": "2023-11-24T19:59:18.897187Z",
     "shell.execute_reply": "2023-11-24T19:59:18.896345Z",
     "shell.execute_reply.started": "2023-11-24T19:59:18.883275Z"
    },
    "tags": []
   },
   "outputs": [],
   "source": [
    "class Data(torch.utils.data.Dataset):\n",
    "    def __init__(self, encodings, labels):\n",
    "        self.encodings = encodings\n",
    "        self.labels = labels\n",
    "\n",
    "    def __getitem__(self, idx):\n",
    "        item = {k: torch.tensor(v[idx]) for k, v in self.encodings.items()}\n",
    "        item[\"labels\"] = torch.tensor([self.labels[idx]])\n",
    "        return item\n",
    "    def __len__(self):\n",
    "        return len(self.labels)"
   ]
  },
  {
   "cell_type": "code",
   "execution_count": 33,
   "id": "d2ea384a-ab55-4408-82f5-b07b3c6f0ded",
   "metadata": {
    "execution": {
     "iopub.execute_input": "2023-11-24T19:59:51.570067Z",
     "iopub.status.busy": "2023-11-24T19:59:51.569161Z",
     "iopub.status.idle": "2023-11-24T19:59:51.587363Z",
     "shell.execute_reply": "2023-11-24T19:59:51.586453Z",
     "shell.execute_reply.started": "2023-11-24T19:59:51.570010Z"
    },
    "tags": []
   },
   "outputs": [],
   "source": [
    "pred_dataset = Data(tokens_pred, pred_label)"
   ]
  },
  {
   "cell_type": "code",
   "execution_count": 38,
   "id": "0b8e4d88-aa3f-4b71-a2b6-bd75c623d989",
   "metadata": {
    "execution": {
     "iopub.execute_input": "2023-11-24T20:01:07.083689Z",
     "iopub.status.busy": "2023-11-24T20:01:07.082794Z",
     "iopub.status.idle": "2023-11-24T20:01:13.858606Z",
     "shell.execute_reply": "2023-11-24T20:01:13.857632Z",
     "shell.execute_reply.started": "2023-11-24T20:01:07.083639Z"
    },
    "tags": []
   },
   "outputs": [],
   "source": [
    "training_args = TrainingArguments(\n",
    "    output_dir = './results', #Выходной каталог\n",
    "    num_train_epochs = 3, #Кол-во эпох для обучения\n",
    "    per_device_train_batch_size = 8, #Размер пакета для каждого устройства во время обучения\n",
    "    per_device_eval_batch_size = 8, #Размер пакета для каждого устройства во время валидации\n",
    "    weight_decay =0.01, #Понижение весов\n",
    "    logging_dir = './logs', #Каталог для хранения журналов\n",
    "    load_best_model_at_end = True, #Загружать ли лучшую модель после обучения\n",
    "    learning_rate = 1e-5, #Скорость обучения\n",
    "    evaluation_strategy ='epoch', #Валидация после каждой эпохи (можно сделать после конкретного кол-ва шагов)\n",
    "    logging_strategy = 'epoch', #Логирование после каждой эпохи\n",
    "    save_strategy = 'epoch', #Сохранение после каждой эпохи\n",
    "    save_total_limit = 1,\n",
    "    seed=21)\n",
    "trainer = Trainer(model=model,\n",
    "                  tokenizer = tokenizer,\n",
    "                  args = training_args)"
   ]
  },
  {
   "cell_type": "code",
   "execution_count": 40,
   "id": "7e87ae85-9d58-47e4-ad70-5bb36e7d3ec4",
   "metadata": {
    "execution": {
     "iopub.execute_input": "2023-11-24T20:01:33.803150Z",
     "iopub.status.busy": "2023-11-24T20:01:33.802373Z",
     "iopub.status.idle": "2023-11-24T20:01:39.183984Z",
     "shell.execute_reply": "2023-11-24T20:01:39.183170Z",
     "shell.execute_reply.started": "2023-11-24T20:01:33.803109Z"
    },
    "tags": []
   },
   "outputs": [
    {
     "data": {
      "text/html": [],
      "text/plain": [
       "<IPython.core.display.HTML object>"
      ]
     },
     "metadata": {},
     "output_type": "display_data"
    }
   ],
   "source": [
    "def get_prediction():\n",
    "    pred = trainer.predict(pred_dataset)\n",
    "    labels = np.argmax(pred.predictions, axis = -1)\n",
    "    return labels\n",
    "pred = get_prediction()"
   ]
  },
  {
   "cell_type": "code",
   "execution_count": 41,
   "id": "ab237844-67e2-42c2-8062-199644ef1521",
   "metadata": {
    "execution": {
     "iopub.execute_input": "2023-11-24T20:01:39.308464Z",
     "iopub.status.busy": "2023-11-24T20:01:39.307531Z",
     "iopub.status.idle": "2023-11-24T20:01:39.335041Z",
     "shell.execute_reply": "2023-11-24T20:01:39.334178Z",
     "shell.execute_reply.started": "2023-11-24T20:01:39.308421Z"
    }
   },
   "outputs": [
    {
     "data": {
      "text/plain": [
       "array([0, 1, 0, 0, 0, 0, 0, 0, 0, 0, 0, 0, 0, 0, 0, 0, 0, 0, 0, 0, 0, 0,\n",
       "       1, 0, 0, 0, 0, 0, 0, 0, 0, 0, 0, 0, 0, 0, 0, 0, 0, 0, 0, 1, 0, 0,\n",
       "       0, 0, 0, 0, 0, 0, 0, 0, 0, 0, 0, 0, 0, 0, 0, 0, 0, 0, 0, 0, 1, 0,\n",
       "       0, 0, 0, 0, 0, 0, 1, 0, 0, 0, 0, 0, 0, 0, 1, 0, 0, 0, 1, 0, 0, 0,\n",
       "       0, 0, 0, 0, 0, 0, 0, 0, 0, 0, 0, 0, 1, 0, 0, 0, 0, 0, 0, 0, 0, 0,\n",
       "       0, 0, 0, 0, 0, 0, 0, 0, 0, 1, 0, 0, 0, 0, 0, 0, 0, 0, 0, 0, 0, 0,\n",
       "       0, 0, 0, 0, 0, 0, 0, 0, 0, 0, 0, 0, 0, 0])"
      ]
     },
     "execution_count": 41,
     "metadata": {},
     "output_type": "execute_result"
    }
   ],
   "source": [
    "pred"
   ]
  },
  {
   "cell_type": "code",
   "execution_count": 42,
   "id": "d07b454e-a1b3-4f57-a0e7-3e851de1025a",
   "metadata": {
    "execution": {
     "iopub.execute_input": "2023-11-24T20:02:09.181659Z",
     "iopub.status.busy": "2023-11-24T20:02:09.180823Z",
     "iopub.status.idle": "2023-11-24T20:02:09.192435Z",
     "shell.execute_reply": "2023-11-24T20:02:09.191649Z",
     "shell.execute_reply.started": "2023-11-24T20:02:09.181620Z"
    }
   },
   "outputs": [],
   "source": [
    "df['labels'] = pred"
   ]
  },
  {
   "cell_type": "code",
   "execution_count": 45,
   "id": "2088eef9-b704-4aca-8b55-9ec8909be3ab",
   "metadata": {
    "execution": {
     "iopub.execute_input": "2023-11-24T20:05:44.204155Z",
     "iopub.status.busy": "2023-11-24T20:05:44.203386Z",
     "iopub.status.idle": "2023-11-24T20:05:44.222635Z",
     "shell.execute_reply": "2023-11-24T20:05:44.221865Z",
     "shell.execute_reply.started": "2023-11-24T20:05:44.204114Z"
    },
    "tags": []
   },
   "outputs": [
    {
     "data": {
      "text/html": [
       "<div>\n",
       "<style scoped>\n",
       "    .dataframe tbody tr th:only-of-type {\n",
       "        vertical-align: middle;\n",
       "    }\n",
       "\n",
       "    .dataframe tbody tr th {\n",
       "        vertical-align: top;\n",
       "    }\n",
       "\n",
       "    .dataframe thead th {\n",
       "        text-align: right;\n",
       "    }\n",
       "</style>\n",
       "<table border=\"1\" class=\"dataframe\">\n",
       "  <thead>\n",
       "    <tr style=\"text-align: right;\">\n",
       "      <th></th>\n",
       "      <th>words</th>\n",
       "      <th>string</th>\n",
       "    </tr>\n",
       "  </thead>\n",
       "  <tbody>\n",
       "    <tr>\n",
       "      <th>1</th>\n",
       "      <td>сущность</td>\n",
       "      <td>Следующая сущность – это переменная. Что такое...</td>\n",
       "    </tr>\n",
       "    <tr>\n",
       "      <th>22</th>\n",
       "      <td>константа</td>\n",
       "      <td>Литерал – это то же самое, что константа. Напр...</td>\n",
       "    </tr>\n",
       "    <tr>\n",
       "      <th>41</th>\n",
       "      <td>литерал</td>\n",
       "      <td>Начнем с литералы. Литерал – это то же самое, ...</td>\n",
       "    </tr>\n",
       "    <tr>\n",
       "      <th>64</th>\n",
       "      <td>число</td>\n",
       "      <td>Например, 123 – число. Это константа.</td>\n",
       "    </tr>\n",
       "    <tr>\n",
       "      <th>72</th>\n",
       "      <td>имя</td>\n",
       "      <td>Задается сначала имя переменной. Пусть будет var.</td>\n",
       "    </tr>\n",
       "    <tr>\n",
       "      <th>80</th>\n",
       "      <td>портативность</td>\n",
       "      <td>И в-пятых, портативность. Код на Python, напис...</td>\n",
       "    </tr>\n",
       "    <tr>\n",
       "      <th>84</th>\n",
       "      <td>образ</td>\n",
       "      <td>В языке Python переменная задается следующим о...</td>\n",
       "    </tr>\n",
       "    <tr>\n",
       "      <th>100</th>\n",
       "      <td>использование</td>\n",
       "      <td>Во-первых, это простой для понимания и использ...</td>\n",
       "    </tr>\n",
       "    <tr>\n",
       "      <th>119</th>\n",
       "      <td>синтаксис</td>\n",
       "      <td>У языка Python, пожалуй, один из самых простых...</td>\n",
       "    </tr>\n",
       "  </tbody>\n",
       "</table>\n",
       "</div>"
      ],
      "text/plain": [
       "             words                                             string\n",
       "1         сущность  Следующая сущность – это переменная. Что такое...\n",
       "22       константа  Литерал – это то же самое, что константа. Напр...\n",
       "41         литерал  Начнем с литералы. Литерал – это то же самое, ...\n",
       "64           число              Например, 123 – число. Это константа.\n",
       "72             имя  Задается сначала имя переменной. Пусть будет var.\n",
       "80   портативность  И в-пятых, портативность. Код на Python, напис...\n",
       "84           образ  В языке Python переменная задается следующим о...\n",
       "100  использование  Во-первых, это простой для понимания и использ...\n",
       "119      синтаксис  У языка Python, пожалуй, один из самых простых..."
      ]
     },
     "execution_count": 45,
     "metadata": {},
     "output_type": "execute_result"
    }
   ],
   "source": [
    "df_real  = df[df['labels'] == 1][['words','string']]\n",
    "df_real"
   ]
  },
  {
   "cell_type": "code",
   "execution_count": 46,
   "id": "cda0611b-507e-471c-b8e5-497b13143f29",
   "metadata": {
    "execution": {
     "iopub.execute_input": "2023-11-24T20:07:21.063201Z",
     "iopub.status.busy": "2023-11-24T20:07:21.062322Z",
     "iopub.status.idle": "2023-11-24T20:07:21.076337Z",
     "shell.execute_reply": "2023-11-24T20:07:21.075552Z",
     "shell.execute_reply.started": "2023-11-24T20:07:21.063149Z"
    }
   },
   "outputs": [],
   "source": [
    "df_real.to_csv('term6.csv')"
   ]
  },
  {
   "cell_type": "markdown",
   "id": "9b7c40eb-bead-4037-83e3-872718c8f924",
   "metadata": {},
   "source": [
    "## Создание определений"
   ]
  },
  {
   "cell_type": "code",
   "execution_count": 47,
   "id": "5209c986-9e94-4496-a3f3-b4728be9dd68",
   "metadata": {
    "execution": {
     "iopub.execute_input": "2023-11-24T20:07:56.221255Z",
     "iopub.status.busy": "2023-11-24T20:07:56.220408Z",
     "iopub.status.idle": "2023-11-24T20:08:21.179673Z",
     "shell.execute_reply": "2023-11-24T20:08:21.178585Z",
     "shell.execute_reply.started": "2023-11-24T20:07:56.221213Z"
    }
   },
   "outputs": [
    {
     "data": {
      "application/vnd.jupyter.widget-view+json": {
       "model_id": "4a5be26f6354499f84bac8264f6c0bc5",
       "version_major": 2,
       "version_minor": 0
      },
      "text/plain": [
       "tokenizer_config.json:   0%|          | 0.00/279 [00:00<?, ?B/s]"
      ]
     },
     "metadata": {},
     "output_type": "display_data"
    },
    {
     "data": {
      "application/vnd.jupyter.widget-view+json": {
       "model_id": "3f29ac91b33a4e848e9db05077a297c1",
       "version_major": 2,
       "version_minor": 0
      },
      "text/plain": [
       "spiece.model:   0%|          | 0.00/828k [00:00<?, ?B/s]"
      ]
     },
     "metadata": {},
     "output_type": "display_data"
    },
    {
     "data": {
      "application/vnd.jupyter.widget-view+json": {
       "model_id": "6c89df5617de45b79d90b4f787184e48",
       "version_major": 2,
       "version_minor": 0
      },
      "text/plain": [
       "tokenizer.json:   0%|          | 0.00/1.31M [00:00<?, ?B/s]"
      ]
     },
     "metadata": {},
     "output_type": "display_data"
    },
    {
     "data": {
      "application/vnd.jupyter.widget-view+json": {
       "model_id": "7a3cf397c07f48c2a5b695eec6c35791",
       "version_major": 2,
       "version_minor": 0
      },
      "text/plain": [
       "special_tokens_map.json:   0%|          | 0.00/65.0 [00:00<?, ?B/s]"
      ]
     },
     "metadata": {},
     "output_type": "display_data"
    },
    {
     "data": {
      "application/vnd.jupyter.widget-view+json": {
       "model_id": "0c23ed8a25e0406c8192fd04d02eb6e9",
       "version_major": 2,
       "version_minor": 0
      },
      "text/plain": [
       "config.json:   0%|          | 0.00/766 [00:00<?, ?B/s]"
      ]
     },
     "metadata": {},
     "output_type": "display_data"
    },
    {
     "data": {
      "application/vnd.jupyter.widget-view+json": {
       "model_id": "462dc8ff5abd43d5a9fb10debddef3d9",
       "version_major": 2,
       "version_minor": 0
      },
      "text/plain": [
       "pytorch_model.bin:   0%|          | 0.00/977M [00:00<?, ?B/s]"
      ]
     },
     "metadata": {},
     "output_type": "display_data"
    }
   ],
   "source": [
    "from transformers import AutoTokenizer, T5ForConditionalGeneration\n",
    "\n",
    "model_name = \"IlyaGusev/rut5_base_sum_gazeta\"\n",
    "tokenizer = AutoTokenizer.from_pretrained(model_name)\n",
    "model = T5ForConditionalGeneration.from_pretrained(model_name)"
   ]
  },
  {
   "cell_type": "code",
   "execution_count": 48,
   "id": "5d9c3637-0b9f-4a8e-82fa-8647a15575d1",
   "metadata": {
    "execution": {
     "iopub.execute_input": "2023-11-24T20:08:39.934955Z",
     "iopub.status.busy": "2023-11-24T20:08:39.934026Z",
     "iopub.status.idle": "2023-11-24T20:08:39.948508Z",
     "shell.execute_reply": "2023-11-24T20:08:39.947559Z",
     "shell.execute_reply.started": "2023-11-24T20:08:39.934913Z"
    }
   },
   "outputs": [],
   "source": [
    "term = pd.read_csv('/home/jupyter/datasphere/project/term6.csv')"
   ]
  },
  {
   "cell_type": "code",
   "execution_count": 58,
   "id": "b1e9d2be-db2c-415b-a868-0efb79005edb",
   "metadata": {
    "execution": {
     "iopub.execute_input": "2023-11-24T20:17:44.234040Z",
     "iopub.status.busy": "2023-11-24T20:17:44.233149Z",
     "iopub.status.idle": "2023-11-24T20:18:42.480841Z",
     "shell.execute_reply": "2023-11-24T20:18:42.479928Z",
     "shell.execute_reply.started": "2023-11-24T20:17:44.233989Z"
    },
    "tags": []
   },
   "outputs": [
    {
     "name": "stdout",
     "output_type": "stream",
     "text": [
      "Следующая сущность – это переменная, а переменная – переменная. Что такое переменная в переменной, когда переменная является переменной.\n",
      "Это то же самое, что константа, константа это - Литерал – число, которое является числом, а константа — число. Это - число числа, которые являются числами и числами. Если константа не будет, то число может быть меньше, чем константа.\n",
      "Начнем с литералы. Литерал – это константа, константа – константа и константа.\n",
      "Например, 123 – число. Это константа, константа – константа. Если число это число, то константа это константа и константа числа.\n",
      "Имя переменной - Задается сначала имя это - Пусть будет var. Это переменная, а потом переменная переменной.\n",
      "Python, написанный на одной платформе, спокойно запустится на другой, например, на Windows. Код на Python - и в-пятых, портативность это.\n",
      "В языке Python переменная задается следующим образом. Задается имя переменной, а затем имя ее переменной.\n",
      "Это простой для понимания и использования язык. Это очень простой, понятный и понятный синтаксис относительно других языков.\n",
      "Синтаксис это - язык интерпретируемый синтаксис. Это - один из самых простых и понятных языков относительно других языков.\n"
     ]
    }
   ],
   "source": [
    "# для хорошего результата требуется дообучение\n",
    "w = []\n",
    "def_ = []\n",
    "for index, row in term.iterrows():\n",
    "    text =  row['words'] + \" это - \" + row['string']\n",
    "    input_ids = tokenizer(\n",
    "        [text],\n",
    "        add_special_tokens=True,\n",
    "        padding=\"max_length\",\n",
    "        truncation=True,\n",
    "        max_length=1000,\n",
    "        return_tensors=\"pt\"\n",
    "    )[\"input_ids\"]\n",
    "\n",
    "    output_ids = model.generate(\n",
    "        input_ids=input_ids,\n",
    "        no_repeat_ngram_size=3,\n",
    "        num_beams=5,\n",
    "        early_stopping=True\n",
    "    )[0]\n",
    "\n",
    "    summary = tokenizer.decode(output_ids, skip_special_tokens=True)\n",
    "    w.append(row['words'])\n",
    "    def_.append(summary)\n",
    "    print(summary)"
   ]
  },
  {
   "cell_type": "code",
   "execution_count": 62,
   "id": "6fb69409-e288-40b3-bc15-d060f3f60bb5",
   "metadata": {
    "execution": {
     "iopub.execute_input": "2023-11-24T20:20:03.699848Z",
     "iopub.status.busy": "2023-11-24T20:20:03.698966Z",
     "iopub.status.idle": "2023-11-24T20:20:03.711793Z",
     "shell.execute_reply": "2023-11-24T20:20:03.711016Z",
     "shell.execute_reply.started": "2023-11-24T20:20:03.699805Z"
    },
    "tags": []
   },
   "outputs": [],
   "source": [
    "term_and_definition = pd.DataFrame({'term':w, 'definition':def_})"
   ]
  },
  {
   "cell_type": "code",
   "execution_count": 63,
   "id": "eec39475-7136-4f18-9359-7af7b78c8e25",
   "metadata": {
    "execution": {
     "iopub.execute_input": "2023-11-24T20:20:10.739931Z",
     "iopub.status.busy": "2023-11-24T20:20:10.739198Z",
     "iopub.status.idle": "2023-11-24T20:20:10.761729Z",
     "shell.execute_reply": "2023-11-24T20:20:10.760849Z",
     "shell.execute_reply.started": "2023-11-24T20:20:10.739883Z"
    }
   },
   "outputs": [
    {
     "data": {
      "text/html": [
       "<div>\n",
       "<style scoped>\n",
       "    .dataframe tbody tr th:only-of-type {\n",
       "        vertical-align: middle;\n",
       "    }\n",
       "\n",
       "    .dataframe tbody tr th {\n",
       "        vertical-align: top;\n",
       "    }\n",
       "\n",
       "    .dataframe thead th {\n",
       "        text-align: right;\n",
       "    }\n",
       "</style>\n",
       "<table border=\"1\" class=\"dataframe\">\n",
       "  <thead>\n",
       "    <tr style=\"text-align: right;\">\n",
       "      <th></th>\n",
       "      <th>term</th>\n",
       "      <th>definition</th>\n",
       "    </tr>\n",
       "  </thead>\n",
       "  <tbody>\n",
       "    <tr>\n",
       "      <th>0</th>\n",
       "      <td>сущность</td>\n",
       "      <td>Следующая сущность – это переменная, а перемен...</td>\n",
       "    </tr>\n",
       "    <tr>\n",
       "      <th>1</th>\n",
       "      <td>константа</td>\n",
       "      <td>Это то же самое, что константа, константа это ...</td>\n",
       "    </tr>\n",
       "    <tr>\n",
       "      <th>2</th>\n",
       "      <td>литерал</td>\n",
       "      <td>Начнем с литералы. Литерал – это константа, ко...</td>\n",
       "    </tr>\n",
       "    <tr>\n",
       "      <th>3</th>\n",
       "      <td>число</td>\n",
       "      <td>Например, 123 – число. Это константа, констант...</td>\n",
       "    </tr>\n",
       "    <tr>\n",
       "      <th>4</th>\n",
       "      <td>имя</td>\n",
       "      <td>Имя переменной - Задается сначала имя это - Пу...</td>\n",
       "    </tr>\n",
       "    <tr>\n",
       "      <th>5</th>\n",
       "      <td>портативность</td>\n",
       "      <td>Python, написанный на одной платформе, спокойн...</td>\n",
       "    </tr>\n",
       "    <tr>\n",
       "      <th>6</th>\n",
       "      <td>образ</td>\n",
       "      <td>В языке Python переменная задается следующим о...</td>\n",
       "    </tr>\n",
       "    <tr>\n",
       "      <th>7</th>\n",
       "      <td>использование</td>\n",
       "      <td>Это простой для понимания и использования язык...</td>\n",
       "    </tr>\n",
       "    <tr>\n",
       "      <th>8</th>\n",
       "      <td>синтаксис</td>\n",
       "      <td>Синтаксис это - язык интерпретируемый синтакси...</td>\n",
       "    </tr>\n",
       "  </tbody>\n",
       "</table>\n",
       "</div>"
      ],
      "text/plain": [
       "            term                                         definition\n",
       "0       сущность  Следующая сущность – это переменная, а перемен...\n",
       "1      константа  Это то же самое, что константа, константа это ...\n",
       "2        литерал  Начнем с литералы. Литерал – это константа, ко...\n",
       "3          число  Например, 123 – число. Это константа, констант...\n",
       "4            имя  Имя переменной - Задается сначала имя это - Пу...\n",
       "5  портативность  Python, написанный на одной платформе, спокойн...\n",
       "6          образ  В языке Python переменная задается следующим о...\n",
       "7  использование  Это простой для понимания и использования язык...\n",
       "8      синтаксис  Синтаксис это - язык интерпретируемый синтакси..."
      ]
     },
     "execution_count": 63,
     "metadata": {},
     "output_type": "execute_result"
    }
   ],
   "source": [
    "term_and_definition"
   ]
  },
  {
   "cell_type": "markdown",
   "id": "765a5f48-d6c2-4b26-a9fa-e37178e894e3",
   "metadata": {},
   "source": [
    "## Поиск временной метки"
   ]
  },
  {
   "cell_type": "code",
   "execution_count": 64,
   "id": "b7fdb490-103c-49e7-a074-6ee373a9b05a",
   "metadata": {
    "execution": {
     "iopub.execute_input": "2023-11-24T20:22:19.865908Z",
     "iopub.status.busy": "2023-11-24T20:22:19.865094Z",
     "iopub.status.idle": "2023-11-24T20:22:19.884536Z",
     "shell.execute_reply": "2023-11-24T20:22:19.883722Z",
     "shell.execute_reply.started": "2023-11-24T20:22:19.865865Z"
    }
   },
   "outputs": [],
   "source": [
    "timecode = pd.read_csv('/home/jupyter/datasphere/project/res/medium/res6.csv')"
   ]
  },
  {
   "cell_type": "code",
   "execution_count": 65,
   "id": "d99a0f30-e580-4267-9f91-32d93469e81d",
   "metadata": {
    "execution": {
     "iopub.execute_input": "2023-11-24T20:24:19.595461Z",
     "iopub.status.busy": "2023-11-24T20:24:19.594687Z",
     "iopub.status.idle": "2023-11-24T20:24:19.628454Z",
     "shell.execute_reply": "2023-11-24T20:24:19.627589Z",
     "shell.execute_reply.started": "2023-11-24T20:24:19.595421Z"
    }
   },
   "outputs": [
    {
     "data": {
      "text/html": [
       "<div>\n",
       "<style scoped>\n",
       "    .dataframe tbody tr th:only-of-type {\n",
       "        vertical-align: middle;\n",
       "    }\n",
       "\n",
       "    .dataframe tbody tr th {\n",
       "        vertical-align: top;\n",
       "    }\n",
       "\n",
       "    .dataframe thead th {\n",
       "        text-align: right;\n",
       "    }\n",
       "</style>\n",
       "<table border=\"1\" class=\"dataframe\">\n",
       "  <thead>\n",
       "    <tr style=\"text-align: right;\">\n",
       "      <th></th>\n",
       "      <th>Unnamed: 0</th>\n",
       "      <th>id</th>\n",
       "      <th>seek</th>\n",
       "      <th>start</th>\n",
       "      <th>end</th>\n",
       "      <th>text</th>\n",
       "      <th>tokens</th>\n",
       "      <th>temperature</th>\n",
       "      <th>avg_logprob</th>\n",
       "      <th>compression_ratio</th>\n",
       "      <th>no_speech_prob</th>\n",
       "    </tr>\n",
       "  </thead>\n",
       "  <tbody>\n",
       "    <tr>\n",
       "      <th>0</th>\n",
       "      <td>0</td>\n",
       "      <td>0</td>\n",
       "      <td>0</td>\n",
       "      <td>0.00</td>\n",
       "      <td>14.88</td>\n",
       "      <td>Привет, меня зовут Владислав Эфимов, я работа...</td>\n",
       "      <td>[50364, 38932, 11, 6885, 46376, 41022, 3323, 2...</td>\n",
       "      <td>0.0</td>\n",
       "      <td>-0.197698</td>\n",
       "      <td>1.781457</td>\n",
       "      <td>0.036399</td>\n",
       "    </tr>\n",
       "    <tr>\n",
       "      <th>1</th>\n",
       "      <td>1</td>\n",
       "      <td>1</td>\n",
       "      <td>0</td>\n",
       "      <td>14.88</td>\n",
       "      <td>15.88</td>\n",
       "      <td>VK Рекламы.</td>\n",
       "      <td>[51108, 691, 42, 6325, 2872, 35768, 698, 13, 5...</td>\n",
       "      <td>0.0</td>\n",
       "      <td>-0.197698</td>\n",
       "      <td>1.781457</td>\n",
       "      <td>0.036399</td>\n",
       "    </tr>\n",
       "    <tr>\n",
       "      <th>2</th>\n",
       "      <td>2</td>\n",
       "      <td>2</td>\n",
       "      <td>0</td>\n",
       "      <td>15.88</td>\n",
       "      <td>18.56</td>\n",
       "      <td>Прежде чем приступить к изучению языка, я кратко</td>\n",
       "      <td>[51158, 8567, 48013, 12056, 5082, 14474, 3258,...</td>\n",
       "      <td>0.0</td>\n",
       "      <td>-0.197698</td>\n",
       "      <td>1.781457</td>\n",
       "      <td>0.036399</td>\n",
       "    </tr>\n",
       "    <tr>\n",
       "      <th>3</th>\n",
       "      <td>3</td>\n",
       "      <td>3</td>\n",
       "      <td>0</td>\n",
       "      <td>18.56</td>\n",
       "      <td>21.36</td>\n",
       "      <td>расскажу о преимуществах этого языка программ...</td>\n",
       "      <td>[51292, 17399, 29294, 1000, 43228, 2165, 585, ...</td>\n",
       "      <td>0.0</td>\n",
       "      <td>-0.197698</td>\n",
       "      <td>1.781457</td>\n",
       "      <td>0.036399</td>\n",
       "    </tr>\n",
       "    <tr>\n",
       "      <th>4</th>\n",
       "      <td>4</td>\n",
       "      <td>4</td>\n",
       "      <td>0</td>\n",
       "      <td>21.36</td>\n",
       "      <td>24.44</td>\n",
       "      <td>какие задачи можно с помощью него решать и в ...</td>\n",
       "      <td>[51432, 19971, 38793, 435, 8885, 776, 36387, 1...</td>\n",
       "      <td>0.0</td>\n",
       "      <td>-0.197698</td>\n",
       "      <td>1.781457</td>\n",
       "      <td>0.036399</td>\n",
       "    </tr>\n",
       "    <tr>\n",
       "      <th>...</th>\n",
       "      <td>...</td>\n",
       "      <td>...</td>\n",
       "      <td>...</td>\n",
       "      <td>...</td>\n",
       "      <td>...</td>\n",
       "      <td>...</td>\n",
       "      <td>...</td>\n",
       "      <td>...</td>\n",
       "      <td>...</td>\n",
       "      <td>...</td>\n",
       "      <td>...</td>\n",
       "    </tr>\n",
       "    <tr>\n",
       "      <th>263</th>\n",
       "      <td>263</td>\n",
       "      <td>263</td>\n",
       "      <td>81184</td>\n",
       "      <td>815.16</td>\n",
       "      <td>816.16</td>\n",
       "      <td>код в ней.</td>\n",
       "      <td>[50530, 981, 1435, 740, 23227, 13, 50580]</td>\n",
       "      <td>0.0</td>\n",
       "      <td>-0.157119</td>\n",
       "      <td>1.854478</td>\n",
       "      <td>0.443487</td>\n",
       "    </tr>\n",
       "    <tr>\n",
       "      <th>264</th>\n",
       "      <td>264</td>\n",
       "      <td>264</td>\n",
       "      <td>81184</td>\n",
       "      <td>816.16</td>\n",
       "      <td>819.44</td>\n",
       "      <td>Написали свою первую программу Hello World, а...</td>\n",
       "      <td>[50580, 28167, 3323, 4071, 23069, 11922, 3924,...</td>\n",
       "      <td>0.0</td>\n",
       "      <td>-0.157119</td>\n",
       "      <td>1.854478</td>\n",
       "      <td>0.443487</td>\n",
       "    </tr>\n",
       "    <tr>\n",
       "      <th>265</th>\n",
       "      <td>265</td>\n",
       "      <td>265</td>\n",
       "      <td>81184</td>\n",
       "      <td>819.44</td>\n",
       "      <td>822.98</td>\n",
       "      <td>с такими понятиями как литерал, переменная, н...</td>\n",
       "      <td>[50744, 776, 2936, 11426, 7903, 21689, 31215, ...</td>\n",
       "      <td>0.0</td>\n",
       "      <td>-0.157119</td>\n",
       "      <td>1.854478</td>\n",
       "      <td>0.443487</td>\n",
       "    </tr>\n",
       "    <tr>\n",
       "      <th>266</th>\n",
       "      <td>266</td>\n",
       "      <td>266</td>\n",
       "      <td>81184</td>\n",
       "      <td>822.98</td>\n",
       "      <td>826.20</td>\n",
       "      <td>выводить данные в консоль, а также считывать ...</td>\n",
       "      <td>[50921, 2840, 17533, 3258, 19582, 4970, 740, 6...</td>\n",
       "      <td>0.0</td>\n",
       "      <td>-0.157119</td>\n",
       "      <td>1.854478</td>\n",
       "      <td>0.443487</td>\n",
       "    </tr>\n",
       "    <tr>\n",
       "      <th>267</th>\n",
       "      <td>267</td>\n",
       "      <td>267</td>\n",
       "      <td>81184</td>\n",
       "      <td>826.20</td>\n",
       "      <td>827.88</td>\n",
       "      <td>данные со стандартного ввода.</td>\n",
       "      <td>[51082, 19582, 4970, 7425, 3266, 12551, 27419,...</td>\n",
       "      <td>0.0</td>\n",
       "      <td>-0.157119</td>\n",
       "      <td>1.854478</td>\n",
       "      <td>0.443487</td>\n",
       "    </tr>\n",
       "  </tbody>\n",
       "</table>\n",
       "<p>268 rows × 11 columns</p>\n",
       "</div>"
      ],
      "text/plain": [
       "     Unnamed: 0   id   seek  ...  avg_logprob  compression_ratio no_speech_prob\n",
       "0             0    0      0  ...    -0.197698           1.781457       0.036399\n",
       "1             1    1      0  ...    -0.197698           1.781457       0.036399\n",
       "2             2    2      0  ...    -0.197698           1.781457       0.036399\n",
       "3             3    3      0  ...    -0.197698           1.781457       0.036399\n",
       "4             4    4      0  ...    -0.197698           1.781457       0.036399\n",
       "..          ...  ...    ...  ...          ...                ...            ...\n",
       "263         263  263  81184  ...    -0.157119           1.854478       0.443487\n",
       "264         264  264  81184  ...    -0.157119           1.854478       0.443487\n",
       "265         265  265  81184  ...    -0.157119           1.854478       0.443487\n",
       "266         266  266  81184  ...    -0.157119           1.854478       0.443487\n",
       "267         267  267  81184  ...    -0.157119           1.854478       0.443487\n",
       "\n",
       "[268 rows x 11 columns]"
      ]
     },
     "execution_count": 65,
     "metadata": {},
     "output_type": "execute_result"
    }
   ],
   "source": [
    "timecode"
   ]
  },
  {
   "cell_type": "code",
   "execution_count": 72,
   "id": "ede4a0c9-8e3a-4702-bc7c-f84420c28e44",
   "metadata": {
    "execution": {
     "iopub.execute_input": "2023-11-24T20:27:37.603378Z",
     "iopub.status.busy": "2023-11-24T20:27:37.599197Z",
     "iopub.status.idle": "2023-11-24T20:27:37.616265Z",
     "shell.execute_reply": "2023-11-24T20:27:37.615442Z",
     "shell.execute_reply.started": "2023-11-24T20:27:37.603322Z"
    },
    "tags": []
   },
   "outputs": [],
   "source": [
    "def find_term(term, timecode):\n",
    "    for index, row in timecode.iterrows():\n",
    "        if (term in row['text'].split()):\n",
    "            print(int(row['start'] // 60), 'мин', int(row['start'] % 60), 'сек')\n",
    "        "
   ]
  },
  {
   "cell_type": "code",
   "execution_count": 73,
   "id": "db49925f-e88d-4654-8a1d-815346fb5280",
   "metadata": {
    "execution": {
     "iopub.execute_input": "2023-11-24T20:27:37.739909Z",
     "iopub.status.busy": "2023-11-24T20:27:37.739264Z",
     "iopub.status.idle": "2023-11-24T20:27:37.763824Z",
     "shell.execute_reply": "2023-11-24T20:27:37.763052Z",
     "shell.execute_reply.started": "2023-11-24T20:27:37.739874Z"
    },
    "tags": []
   },
   "outputs": [
    {
     "name": "stdout",
     "output_type": "stream",
     "text": [
      "9 мин 22 сек\n",
      "9 мин 54 сек\n"
     ]
    }
   ],
   "source": [
    "find_term('Интерпретатор', timecode)"
   ]
  },
  {
   "cell_type": "code",
   "execution_count": null,
   "id": "d65c5e58-adcf-4d6c-8b48-432e27ac6358",
   "metadata": {},
   "outputs": [],
   "source": []
  }
 ],
 "metadata": {
  "kernelspec": {
   "display_name": "DataSphere Kernel",
   "language": "python",
   "name": "python3"
  },
  "language_info": {
   "codemirror_mode": {
    "name": "ipython",
    "version": 3
   },
   "file_extension": ".py",
   "mimetype": "text/x-python",
   "name": "python",
   "nbconvert_exporter": "python",
   "pygments_lexer": "ipython3",
   "version": "3.7.7"
  }
 },
 "nbformat": 4,
 "nbformat_minor": 5
}
